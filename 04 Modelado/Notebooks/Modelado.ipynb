{
  "nbformat": 4,
  "nbformat_minor": 0,
  "metadata": {
    "colab": {
      "provenance": []
    },
    "kernelspec": {
      "name": "python3",
      "display_name": "Python 3"
    },
    "language_info": {
      "name": "python"
    }
  },
  "cells": [
    {
      "cell_type": "markdown",
      "source": [
        "**MODELADO**"
      ],
      "metadata": {
        "id": "ukdFEWG5WehP"
      }
    },
    {
      "cell_type": "markdown",
      "source": [
        "**1. Librerías**"
      ],
      "metadata": {
        "id": "4Sm_CzDsWjxM"
      }
    },
    {
      "cell_type": "code",
      "source": [
        "try:\n",
        "  from google.colab import auth\n",
        "  auth.authenticate_user()\n",
        "  import pandas as pd\n",
        "  import numpy as np\n",
        "  import matplotlib.pyplot as plt\n",
        "  from google.cloud import storage\n",
        "  from googleapiclient.discovery import build\n",
        "  from google.cloud import storage\n",
        "  from sklearn.feature_extraction.text import TfidfVectorizer # Modelado\n",
        "  from sklearn.model_selection import train_test_split, GridSearchCV # Modelado\n",
        "  from sklearn.ensemble import GradientBoostingClassifier # Modelado\n",
        "  from sklearn.linear_model import LogisticRegression # Modelado\n",
        "  from sklearn.metrics import accuracy_score, confusion_matrix, classification_report # Metricas\n",
        "except:\n",
        "  !pip install google-cloud-storage\n",
        "  !pip install pandas\n",
        "  !pip install sklearn\n",
        "  !pip install numpy\n",
        "  !pip install matplotlib.pyplot"
      ],
      "metadata": {
        "id": "uPihPncRP7xr"
      },
      "execution_count": 79,
      "outputs": []
    },
    {
      "cell_type": "markdown",
      "source": [
        "**2. Lectura de datos**"
      ],
      "metadata": {
        "id": "4JjotMxaX4eN"
      }
    },
    {
      "cell_type": "code",
      "source": [
        "def descargar_de_bucket_origen(nombre_bucket_origen, nombre_blob_origen, nombre_archivo_destino):\n",
        "    cliente = storage.Client()\n",
        "    bucket = cliente.bucket(nombre_bucket_origen)\n",
        "    blob = bucket.blob(nombre_blob_origen)\n",
        "    blob.download_to_filename(nombre_archivo_destino)\n",
        "    print(f\"Archivo {nombre_blob_origen} descargado como {nombre_archivo_destino}.\")"
      ],
      "metadata": {
        "id": "edikbdk0Vk-4"
      },
      "execution_count": 10,
      "outputs": []
    },
    {
      "cell_type": "code",
      "source": [
        "nombre_bucket_origen = 'ds-edw-processed-d1655b14'\n",
        "nombre_bucket_procesado = 'ds-edw-processed-d1655b14'\n",
        "nombre_blob_origen = 'CSV/df_processed.csv' # Aquí se pone el nombre de la carpeta CSV, barra / , y el nombre del csv con el que queremos trabajar\n",
        "ruta_descarga_local = 'df_processed.csv' # Aquí se pone solamente el nombre del csv con el que queremos trabajar\n",
        "descargar_de_bucket_origen(nombre_bucket_origen, nombre_blob_origen, ruta_descarga_local)"
      ],
      "metadata": {
        "colab": {
          "base_uri": "https://localhost:8080/"
        },
        "id": "sqBGUXDZVo-y",
        "outputId": "cd7e7a14-8c0d-4869-da91-2056c700d5fc"
      },
      "execution_count": 11,
      "outputs": [
        {
          "output_type": "stream",
          "name": "stdout",
          "text": [
            "Archivo CSV/df_processed.csv descargado como df_processed.csv.\n"
          ]
        }
      ]
    },
    {
      "cell_type": "code",
      "source": [
        "data = pd.read_csv(ruta_descarga_local)\n",
        "data.head()"
      ],
      "metadata": {
        "colab": {
          "base_uri": "https://localhost:8080/",
          "height": 206
        },
        "id": "KBZDArfpX8KG",
        "outputId": "7c3e4fc8-3f73-4565-d330-e0c43b34ea30"
      },
      "execution_count": 12,
      "outputs": [
        {
          "output_type": "execute_result",
          "data": {
            "text/plain": [
              "   label                                     processed_text\n",
              "0      0  arco forum recibe este viernes la medalla de o...\n",
              "1      0  las reacciones a la muerte de chacon de todo s...\n",
              "2      0  millones de chilenos no votan nunca otros tant...\n",
              "3      0  dime a mi y yo te hago reir com osea para que ...\n",
              "4      0  se compraron esas aireadoras culias de papas f..."
            ],
            "text/html": [
              "\n",
              "  <div id=\"df-c6b8410a-84da-4809-879a-21e9aa051b41\" class=\"colab-df-container\">\n",
              "    <div>\n",
              "<style scoped>\n",
              "    .dataframe tbody tr th:only-of-type {\n",
              "        vertical-align: middle;\n",
              "    }\n",
              "\n",
              "    .dataframe tbody tr th {\n",
              "        vertical-align: top;\n",
              "    }\n",
              "\n",
              "    .dataframe thead th {\n",
              "        text-align: right;\n",
              "    }\n",
              "</style>\n",
              "<table border=\"1\" class=\"dataframe\">\n",
              "  <thead>\n",
              "    <tr style=\"text-align: right;\">\n",
              "      <th></th>\n",
              "      <th>label</th>\n",
              "      <th>processed_text</th>\n",
              "    </tr>\n",
              "  </thead>\n",
              "  <tbody>\n",
              "    <tr>\n",
              "      <th>0</th>\n",
              "      <td>0</td>\n",
              "      <td>arco forum recibe este viernes la medalla de o...</td>\n",
              "    </tr>\n",
              "    <tr>\n",
              "      <th>1</th>\n",
              "      <td>0</td>\n",
              "      <td>las reacciones a la muerte de chacon de todo s...</td>\n",
              "    </tr>\n",
              "    <tr>\n",
              "      <th>2</th>\n",
              "      <td>0</td>\n",
              "      <td>millones de chilenos no votan nunca otros tant...</td>\n",
              "    </tr>\n",
              "    <tr>\n",
              "      <th>3</th>\n",
              "      <td>0</td>\n",
              "      <td>dime a mi y yo te hago reir com osea para que ...</td>\n",
              "    </tr>\n",
              "    <tr>\n",
              "      <th>4</th>\n",
              "      <td>0</td>\n",
              "      <td>se compraron esas aireadoras culias de papas f...</td>\n",
              "    </tr>\n",
              "  </tbody>\n",
              "</table>\n",
              "</div>\n",
              "    <div class=\"colab-df-buttons\">\n",
              "\n",
              "  <div class=\"colab-df-container\">\n",
              "    <button class=\"colab-df-convert\" onclick=\"convertToInteractive('df-c6b8410a-84da-4809-879a-21e9aa051b41')\"\n",
              "            title=\"Convert this dataframe to an interactive table.\"\n",
              "            style=\"display:none;\">\n",
              "\n",
              "  <svg xmlns=\"http://www.w3.org/2000/svg\" height=\"24px\" viewBox=\"0 -960 960 960\">\n",
              "    <path d=\"M120-120v-720h720v720H120Zm60-500h600v-160H180v160Zm220 220h160v-160H400v160Zm0 220h160v-160H400v160ZM180-400h160v-160H180v160Zm440 0h160v-160H620v160ZM180-180h160v-160H180v160Zm440 0h160v-160H620v160Z\"/>\n",
              "  </svg>\n",
              "    </button>\n",
              "\n",
              "  <style>\n",
              "    .colab-df-container {\n",
              "      display:flex;\n",
              "      gap: 12px;\n",
              "    }\n",
              "\n",
              "    .colab-df-convert {\n",
              "      background-color: #E8F0FE;\n",
              "      border: none;\n",
              "      border-radius: 50%;\n",
              "      cursor: pointer;\n",
              "      display: none;\n",
              "      fill: #1967D2;\n",
              "      height: 32px;\n",
              "      padding: 0 0 0 0;\n",
              "      width: 32px;\n",
              "    }\n",
              "\n",
              "    .colab-df-convert:hover {\n",
              "      background-color: #E2EBFA;\n",
              "      box-shadow: 0px 1px 2px rgba(60, 64, 67, 0.3), 0px 1px 3px 1px rgba(60, 64, 67, 0.15);\n",
              "      fill: #174EA6;\n",
              "    }\n",
              "\n",
              "    .colab-df-buttons div {\n",
              "      margin-bottom: 4px;\n",
              "    }\n",
              "\n",
              "    [theme=dark] .colab-df-convert {\n",
              "      background-color: #3B4455;\n",
              "      fill: #D2E3FC;\n",
              "    }\n",
              "\n",
              "    [theme=dark] .colab-df-convert:hover {\n",
              "      background-color: #434B5C;\n",
              "      box-shadow: 0px 1px 3px 1px rgba(0, 0, 0, 0.15);\n",
              "      filter: drop-shadow(0px 1px 2px rgba(0, 0, 0, 0.3));\n",
              "      fill: #FFFFFF;\n",
              "    }\n",
              "  </style>\n",
              "\n",
              "    <script>\n",
              "      const buttonEl =\n",
              "        document.querySelector('#df-c6b8410a-84da-4809-879a-21e9aa051b41 button.colab-df-convert');\n",
              "      buttonEl.style.display =\n",
              "        google.colab.kernel.accessAllowed ? 'block' : 'none';\n",
              "\n",
              "      async function convertToInteractive(key) {\n",
              "        const element = document.querySelector('#df-c6b8410a-84da-4809-879a-21e9aa051b41');\n",
              "        const dataTable =\n",
              "          await google.colab.kernel.invokeFunction('convertToInteractive',\n",
              "                                                    [key], {});\n",
              "        if (!dataTable) return;\n",
              "\n",
              "        const docLinkHtml = 'Like what you see? Visit the ' +\n",
              "          '<a target=\"_blank\" href=https://colab.research.google.com/notebooks/data_table.ipynb>data table notebook</a>'\n",
              "          + ' to learn more about interactive tables.';\n",
              "        element.innerHTML = '';\n",
              "        dataTable['output_type'] = 'display_data';\n",
              "        await google.colab.output.renderOutput(dataTable, element);\n",
              "        const docLink = document.createElement('div');\n",
              "        docLink.innerHTML = docLinkHtml;\n",
              "        element.appendChild(docLink);\n",
              "      }\n",
              "    </script>\n",
              "  </div>\n",
              "\n",
              "\n",
              "<div id=\"df-2f0e7e50-ba0b-4778-9574-416a0d7ce41e\">\n",
              "  <button class=\"colab-df-quickchart\" onclick=\"quickchart('df-2f0e7e50-ba0b-4778-9574-416a0d7ce41e')\"\n",
              "            title=\"Suggest charts\"\n",
              "            style=\"display:none;\">\n",
              "\n",
              "<svg xmlns=\"http://www.w3.org/2000/svg\" height=\"24px\"viewBox=\"0 0 24 24\"\n",
              "     width=\"24px\">\n",
              "    <g>\n",
              "        <path d=\"M19 3H5c-1.1 0-2 .9-2 2v14c0 1.1.9 2 2 2h14c1.1 0 2-.9 2-2V5c0-1.1-.9-2-2-2zM9 17H7v-7h2v7zm4 0h-2V7h2v10zm4 0h-2v-4h2v4z\"/>\n",
              "    </g>\n",
              "</svg>\n",
              "  </button>\n",
              "\n",
              "<style>\n",
              "  .colab-df-quickchart {\n",
              "      --bg-color: #E8F0FE;\n",
              "      --fill-color: #1967D2;\n",
              "      --hover-bg-color: #E2EBFA;\n",
              "      --hover-fill-color: #174EA6;\n",
              "      --disabled-fill-color: #AAA;\n",
              "      --disabled-bg-color: #DDD;\n",
              "  }\n",
              "\n",
              "  [theme=dark] .colab-df-quickchart {\n",
              "      --bg-color: #3B4455;\n",
              "      --fill-color: #D2E3FC;\n",
              "      --hover-bg-color: #434B5C;\n",
              "      --hover-fill-color: #FFFFFF;\n",
              "      --disabled-bg-color: #3B4455;\n",
              "      --disabled-fill-color: #666;\n",
              "  }\n",
              "\n",
              "  .colab-df-quickchart {\n",
              "    background-color: var(--bg-color);\n",
              "    border: none;\n",
              "    border-radius: 50%;\n",
              "    cursor: pointer;\n",
              "    display: none;\n",
              "    fill: var(--fill-color);\n",
              "    height: 32px;\n",
              "    padding: 0;\n",
              "    width: 32px;\n",
              "  }\n",
              "\n",
              "  .colab-df-quickchart:hover {\n",
              "    background-color: var(--hover-bg-color);\n",
              "    box-shadow: 0 1px 2px rgba(60, 64, 67, 0.3), 0 1px 3px 1px rgba(60, 64, 67, 0.15);\n",
              "    fill: var(--button-hover-fill-color);\n",
              "  }\n",
              "\n",
              "  .colab-df-quickchart-complete:disabled,\n",
              "  .colab-df-quickchart-complete:disabled:hover {\n",
              "    background-color: var(--disabled-bg-color);\n",
              "    fill: var(--disabled-fill-color);\n",
              "    box-shadow: none;\n",
              "  }\n",
              "\n",
              "  .colab-df-spinner {\n",
              "    border: 2px solid var(--fill-color);\n",
              "    border-color: transparent;\n",
              "    border-bottom-color: var(--fill-color);\n",
              "    animation:\n",
              "      spin 1s steps(1) infinite;\n",
              "  }\n",
              "\n",
              "  @keyframes spin {\n",
              "    0% {\n",
              "      border-color: transparent;\n",
              "      border-bottom-color: var(--fill-color);\n",
              "      border-left-color: var(--fill-color);\n",
              "    }\n",
              "    20% {\n",
              "      border-color: transparent;\n",
              "      border-left-color: var(--fill-color);\n",
              "      border-top-color: var(--fill-color);\n",
              "    }\n",
              "    30% {\n",
              "      border-color: transparent;\n",
              "      border-left-color: var(--fill-color);\n",
              "      border-top-color: var(--fill-color);\n",
              "      border-right-color: var(--fill-color);\n",
              "    }\n",
              "    40% {\n",
              "      border-color: transparent;\n",
              "      border-right-color: var(--fill-color);\n",
              "      border-top-color: var(--fill-color);\n",
              "    }\n",
              "    60% {\n",
              "      border-color: transparent;\n",
              "      border-right-color: var(--fill-color);\n",
              "    }\n",
              "    80% {\n",
              "      border-color: transparent;\n",
              "      border-right-color: var(--fill-color);\n",
              "      border-bottom-color: var(--fill-color);\n",
              "    }\n",
              "    90% {\n",
              "      border-color: transparent;\n",
              "      border-bottom-color: var(--fill-color);\n",
              "    }\n",
              "  }\n",
              "</style>\n",
              "\n",
              "  <script>\n",
              "    async function quickchart(key) {\n",
              "      const quickchartButtonEl =\n",
              "        document.querySelector('#' + key + ' button');\n",
              "      quickchartButtonEl.disabled = true;  // To prevent multiple clicks.\n",
              "      quickchartButtonEl.classList.add('colab-df-spinner');\n",
              "      try {\n",
              "        const charts = await google.colab.kernel.invokeFunction(\n",
              "            'suggestCharts', [key], {});\n",
              "      } catch (error) {\n",
              "        console.error('Error during call to suggestCharts:', error);\n",
              "      }\n",
              "      quickchartButtonEl.classList.remove('colab-df-spinner');\n",
              "      quickchartButtonEl.classList.add('colab-df-quickchart-complete');\n",
              "    }\n",
              "    (() => {\n",
              "      let quickchartButtonEl =\n",
              "        document.querySelector('#df-2f0e7e50-ba0b-4778-9574-416a0d7ce41e button');\n",
              "      quickchartButtonEl.style.display =\n",
              "        google.colab.kernel.accessAllowed ? 'block' : 'none';\n",
              "    })();\n",
              "  </script>\n",
              "</div>\n",
              "    </div>\n",
              "  </div>\n"
            ],
            "application/vnd.google.colaboratory.intrinsic+json": {
              "type": "dataframe",
              "variable_name": "data",
              "summary": "{\n  \"name\": \"data\",\n  \"rows\": 22722,\n  \"fields\": [\n    {\n      \"column\": \"label\",\n      \"properties\": {\n        \"dtype\": \"number\",\n        \"std\": 0,\n        \"min\": 0,\n        \"max\": 1,\n        \"num_unique_values\": 2,\n        \"samples\": [\n          1,\n          0\n        ],\n        \"semantic_type\": \"\",\n        \"description\": \"\"\n      }\n    },\n    {\n      \"column\": \"processed_text\",\n      \"properties\": {\n        \"dtype\": \"string\",\n        \"num_unique_values\": 22065,\n        \"samples\": [\n          \"arceyanez siendo informatico no puedo creer como falla tu logica y crees en esos comunistas nefastos jajajaja\",\n          \"mucho subnormal suelto para mi gusto\"\n        ],\n        \"semantic_type\": \"\",\n        \"description\": \"\"\n      }\n    }\n  ]\n}"
            }
          },
          "metadata": {},
          "execution_count": 12
        }
      ]
    },
    {
      "cell_type": "markdown",
      "source": [
        "**3. División de datos**"
      ],
      "metadata": {
        "id": "skCR5MJiXjnO"
      }
    },
    {
      "cell_type": "code",
      "source": [
        "X_train, X_test, y_train, y_test = train_test_split(\n",
        "    data['processed_text'],\n",
        "    data['label'],\n",
        "    train_size=0.75,\n",
        "    test_size=0.25,\n",
        "    random_state=42,\n",
        "    shuffle=True\n",
        ")"
      ],
      "metadata": {
        "id": "tWIiJcx7XnbB"
      },
      "execution_count": 13,
      "outputs": []
    },
    {
      "cell_type": "markdown",
      "source": [
        "Comprobamos que ambos conjuntos de train tienen los datos que han de tener."
      ],
      "metadata": {
        "id": "I4v6AK1wY4G2"
      }
    },
    {
      "cell_type": "code",
      "source": [
        "X_train.iloc[:10]"
      ],
      "metadata": {
        "colab": {
          "base_uri": "https://localhost:8080/"
        },
        "id": "07B3g2P2Yrqe",
        "outputId": "7b417de0-e38b-4317-8da2-64b2d7977927"
      },
      "execution_count": 14,
      "outputs": [
        {
          "output_type": "execute_result",
          "data": {
            "text/plain": [
              "9480     choco un video aficionado registro un angustio...\n",
              "22396        toneladas de inmigrantes musulmanes africanos\n",
              "20199                              gilipollez progre macho\n",
              "1373     con justa razon esas canciones que mujer mas b...\n",
              "14364    habla como chileno antes de irte culiao weon l...\n",
              "14669    recambio en equipo de chanta expertos ingresa ...\n",
              "9406     dices que sois la solucion para todos los cata...\n",
              "1135     un poquito de por favor los indigenas al igual...\n",
              "22136                                 mentirosos populares\n",
              "426      en cataluna ha ganado la derecha la independen...\n",
              "Name: processed_text, dtype: object"
            ]
          },
          "metadata": {},
          "execution_count": 14
        }
      ]
    },
    {
      "cell_type": "code",
      "source": [
        "y_train.iloc[:10]"
      ],
      "metadata": {
        "colab": {
          "base_uri": "https://localhost:8080/"
        },
        "id": "G-SDhLG3YzYl",
        "outputId": "9d55b6a7-fcce-45e9-da41-936aa3e7add4"
      },
      "execution_count": 15,
      "outputs": [
        {
          "output_type": "execute_result",
          "data": {
            "text/plain": [
              "9480     0\n",
              "22396    1\n",
              "20199    1\n",
              "1373     0\n",
              "14364    1\n",
              "14669    1\n",
              "9406     0\n",
              "1135     0\n",
              "22136    1\n",
              "426      0\n",
              "Name: label, dtype: int64"
            ]
          },
          "metadata": {},
          "execution_count": 15
        }
      ]
    },
    {
      "cell_type": "markdown",
      "source": [
        "**4. Entrenamiento del modelo**"
      ],
      "metadata": {
        "id": "JrwAp31W-giN"
      }
    },
    {
      "cell_type": "markdown",
      "source": [
        "Vamos a descartar las palabras que aparecen en más del 95% de los documentos, términos muy comunes, y las que aparecen en menos de 3 documentos, términos muy raros.\n"
      ],
      "metadata": {
        "id": "e_HDPI76Icd1"
      }
    },
    {
      "cell_type": "code",
      "source": [
        "cv = TfidfVectorizer(\n",
        "    max_df=0.95,\n",
        "    min_df=3,\n",
        "    max_features = 2500,\n",
        "    ngram_range=(1, 1)\n",
        ")\n",
        "cv.fit(X_train)"
      ],
      "metadata": {
        "colab": {
          "base_uri": "https://localhost:8080/",
          "height": 75
        },
        "id": "1_OMwP8d-p0Z",
        "outputId": "510a9cd2-f296-4df2-a1d2-3fd9d669df81"
      },
      "execution_count": 16,
      "outputs": [
        {
          "output_type": "execute_result",
          "data": {
            "text/plain": [
              "TfidfVectorizer(max_df=0.95, max_features=2500, min_df=3)"
            ],
            "text/html": [
              "<style>#sk-container-id-1 {color: black;background-color: white;}#sk-container-id-1 pre{padding: 0;}#sk-container-id-1 div.sk-toggleable {background-color: white;}#sk-container-id-1 label.sk-toggleable__label {cursor: pointer;display: block;width: 100%;margin-bottom: 0;padding: 0.3em;box-sizing: border-box;text-align: center;}#sk-container-id-1 label.sk-toggleable__label-arrow:before {content: \"▸\";float: left;margin-right: 0.25em;color: #696969;}#sk-container-id-1 label.sk-toggleable__label-arrow:hover:before {color: black;}#sk-container-id-1 div.sk-estimator:hover label.sk-toggleable__label-arrow:before {color: black;}#sk-container-id-1 div.sk-toggleable__content {max-height: 0;max-width: 0;overflow: hidden;text-align: left;background-color: #f0f8ff;}#sk-container-id-1 div.sk-toggleable__content pre {margin: 0.2em;color: black;border-radius: 0.25em;background-color: #f0f8ff;}#sk-container-id-1 input.sk-toggleable__control:checked~div.sk-toggleable__content {max-height: 200px;max-width: 100%;overflow: auto;}#sk-container-id-1 input.sk-toggleable__control:checked~label.sk-toggleable__label-arrow:before {content: \"▾\";}#sk-container-id-1 div.sk-estimator input.sk-toggleable__control:checked~label.sk-toggleable__label {background-color: #d4ebff;}#sk-container-id-1 div.sk-label input.sk-toggleable__control:checked~label.sk-toggleable__label {background-color: #d4ebff;}#sk-container-id-1 input.sk-hidden--visually {border: 0;clip: rect(1px 1px 1px 1px);clip: rect(1px, 1px, 1px, 1px);height: 1px;margin: -1px;overflow: hidden;padding: 0;position: absolute;width: 1px;}#sk-container-id-1 div.sk-estimator {font-family: monospace;background-color: #f0f8ff;border: 1px dotted black;border-radius: 0.25em;box-sizing: border-box;margin-bottom: 0.5em;}#sk-container-id-1 div.sk-estimator:hover {background-color: #d4ebff;}#sk-container-id-1 div.sk-parallel-item::after {content: \"\";width: 100%;border-bottom: 1px solid gray;flex-grow: 1;}#sk-container-id-1 div.sk-label:hover label.sk-toggleable__label {background-color: #d4ebff;}#sk-container-id-1 div.sk-serial::before {content: \"\";position: absolute;border-left: 1px solid gray;box-sizing: border-box;top: 0;bottom: 0;left: 50%;z-index: 0;}#sk-container-id-1 div.sk-serial {display: flex;flex-direction: column;align-items: center;background-color: white;padding-right: 0.2em;padding-left: 0.2em;position: relative;}#sk-container-id-1 div.sk-item {position: relative;z-index: 1;}#sk-container-id-1 div.sk-parallel {display: flex;align-items: stretch;justify-content: center;background-color: white;position: relative;}#sk-container-id-1 div.sk-item::before, #sk-container-id-1 div.sk-parallel-item::before {content: \"\";position: absolute;border-left: 1px solid gray;box-sizing: border-box;top: 0;bottom: 0;left: 50%;z-index: -1;}#sk-container-id-1 div.sk-parallel-item {display: flex;flex-direction: column;z-index: 1;position: relative;background-color: white;}#sk-container-id-1 div.sk-parallel-item:first-child::after {align-self: flex-end;width: 50%;}#sk-container-id-1 div.sk-parallel-item:last-child::after {align-self: flex-start;width: 50%;}#sk-container-id-1 div.sk-parallel-item:only-child::after {width: 0;}#sk-container-id-1 div.sk-dashed-wrapped {border: 1px dashed gray;margin: 0 0.4em 0.5em 0.4em;box-sizing: border-box;padding-bottom: 0.4em;background-color: white;}#sk-container-id-1 div.sk-label label {font-family: monospace;font-weight: bold;display: inline-block;line-height: 1.2em;}#sk-container-id-1 div.sk-label-container {text-align: center;}#sk-container-id-1 div.sk-container {/* jupyter's `normalize.less` sets `[hidden] { display: none; }` but bootstrap.min.css set `[hidden] { display: none !important; }` so we also need the `!important` here to be able to override the default hidden behavior on the sphinx rendered scikit-learn.org. See: https://github.com/scikit-learn/scikit-learn/issues/21755 */display: inline-block !important;position: relative;}#sk-container-id-1 div.sk-text-repr-fallback {display: none;}</style><div id=\"sk-container-id-1\" class=\"sk-top-container\"><div class=\"sk-text-repr-fallback\"><pre>TfidfVectorizer(max_df=0.95, max_features=2500, min_df=3)</pre><b>In a Jupyter environment, please rerun this cell to show the HTML representation or trust the notebook. <br />On GitHub, the HTML representation is unable to render, please try loading this page with nbviewer.org.</b></div><div class=\"sk-container\" hidden><div class=\"sk-item\"><div class=\"sk-estimator sk-toggleable\"><input class=\"sk-toggleable__control sk-hidden--visually\" id=\"sk-estimator-id-1\" type=\"checkbox\" checked><label for=\"sk-estimator-id-1\" class=\"sk-toggleable__label sk-toggleable__label-arrow\">TfidfVectorizer</label><div class=\"sk-toggleable__content\"><pre>TfidfVectorizer(max_df=0.95, max_features=2500, min_df=3)</pre></div></div></div></div></div>"
            ]
          },
          "metadata": {},
          "execution_count": 16
        }
      ]
    },
    {
      "cell_type": "code",
      "source": [
        "print(list(cv.vocabulary_.items())[:60])"
      ],
      "metadata": {
        "colab": {
          "base_uri": "https://localhost:8080/"
        },
        "id": "Nzqi7TL3-9wl",
        "outputId": "1b602af9-c150-4bc5-f6c6-26805f0dee4c"
      },
      "execution_count": 17,
      "outputs": [
        {
          "output_type": "stream",
          "name": "stdout",
          "text": [
            "[('un', 2321), ('video', 2417), ('en', 688), ('las', 1186), ('de', 524), ('este', 765), ('migrante', 1397), ('su', 2156), ('bebe', 182), ('fueron', 874), ('por', 1794), ('la', 1174), ('rio', 1995), ('inmigrantes', 1110), ('musulmanes', 1470), ('africanos', 37), ('progre', 1834), ('macho', 1282), ('con', 403), ('razon', 1936), ('esas', 726), ('que', 1893), ('mujer', 1459), ('mas', 1333), ('bella', 184), ('habla', 958), ('como', 387), ('chileno', 325), ('antes', 97), ('culiao', 496), ('weon', 2480), ('wea', 2477), ('equipo', 717), ('mapuche', 1318), ('estuvo', 780), ('tv', 2306), ('pase', 1653), ('ver', 2395), ('lo', 1260), ('grave', 937), ('puso', 1881), ('duda', 655), ('sea', 2054), ('dice', 597), ('se', 2053), ('sale', 2030), ('muerto', 1456), ('paso', 1655), ('miserable', 1418), ('dices', 599), ('sois', 2140), ('solucion', 2146), ('para', 1623), ('todos', 2253), ('los', 1269), ('catalanes', 290), ('pero', 1716), ('una', 2322), ('sola', 2142), ('palabra', 1606)]\n"
          ]
        }
      ]
    },
    {
      "cell_type": "code",
      "source": [
        "X_train_ = cv.transform(X_train)\n",
        "X_test_ = cv.transform(X_test)"
      ],
      "metadata": {
        "id": "1P3yyqR0_dPY"
      },
      "execution_count": 18,
      "outputs": []
    },
    {
      "cell_type": "markdown",
      "source": [
        "Vamos a utilizar un modelo de regresión logística y un gradient boosting."
      ],
      "metadata": {
        "id": "DnpCofvx-FBV"
      }
    },
    {
      "cell_type": "code",
      "source": [
        "# Diferentes parámetros de C\n",
        "param_grid = {'C': [0.01, 0.05, 0.1, 0.5, 1, 5, 10,100]}\n",
        "\n",
        "# Inicializar el clasificador de regresión logística\n",
        "lr = LogisticRegression(solver='lbfgs', max_iter=500)\n",
        "\n",
        "# Inicializar GridSearchCV\n",
        "grid_search = GridSearchCV(lr, param_grid, cv=5, scoring='accuracy')\n",
        "\n",
        "# Entrenar GridSearchCV\n",
        "grid_search.fit(X_train_, y_train)\n",
        "\n",
        "# Obtener el mejor valor de C\n",
        "best_C = grid_search.best_params_['C']\n",
        "print(\"Mejor valor de C:\", best_C)"
      ],
      "metadata": {
        "colab": {
          "base_uri": "https://localhost:8080/"
        },
        "id": "PbVAusGnAk2p",
        "outputId": "807a14f9-7f95-4336-ec59-aeecc7bbe7de"
      },
      "execution_count": 19,
      "outputs": [
        {
          "output_type": "stream",
          "name": "stdout",
          "text": [
            "Mejor valor de C: 5\n"
          ]
        }
      ]
    },
    {
      "cell_type": "code",
      "source": [
        "# Inicializar un nuevo clasificador de regresión logística con el mejor valor de C\n",
        "best_lr = LogisticRegression(C=best_C, solver='lbfgs', max_iter=500)\n",
        "\n",
        "# Entrenar el modelo con los datos de entrenamiento\n",
        "best_lr.fit(X_train_, y_train)\n",
        "\n",
        "# Predecir las etiquetas\n",
        "y_train_pred = best_lr.predict(X_train_)\n",
        "y_test_pred = best_lr.predict(X_test_)\n",
        "\n",
        "# Calcular el accuracy del modelo\n",
        "accuracy_train_lr = accuracy_score(y_train, y_train_pred)\n",
        "accuracy_test_lr = accuracy_score(y_test, y_test_pred)\n",
        "print(\"Accuracy en train: {:.4f}\".format(accuracy_train_lr))\n",
        "print(\"Accuracy en test: {:.4f}\".format(accuracy_test_lr))"
      ],
      "metadata": {
        "colab": {
          "base_uri": "https://localhost:8080/"
        },
        "id": "45sObUnB6MFC",
        "outputId": "f8ded8ee-8e2e-483b-a124-05fe668bd7f7"
      },
      "execution_count": 20,
      "outputs": [
        {
          "output_type": "stream",
          "name": "stdout",
          "text": [
            "Accuracy en train: 0.8879\n",
            "Accuracy en test: 0.8428\n"
          ]
        }
      ]
    },
    {
      "cell_type": "markdown",
      "source": [
        "Podemos observar que el 90% de los comentarios de odio(7712 sobre 7712+801) y el 87% de los comentarios de no odio(7418 sobre 7418+1110) los clasifica como realmente son."
      ],
      "metadata": {
        "id": "-tQ5AucWPmRb"
      }
    },
    {
      "cell_type": "code",
      "source": [
        "print('Confussion matrix:\\n{}'.format(confusion_matrix(y_train, y_train_pred)))\n",
        "print('\\nClassification report:\\n{}'.format(classification_report(y_train, y_train_pred)))\n",
        "#print('Accuracy score:{}'.format(accuracy_score(y_train, y_train_pred)))"
      ],
      "metadata": {
        "colab": {
          "base_uri": "https://localhost:8080/"
        },
        "id": "8K_r6tbtA82R",
        "outputId": "e333acbd-c1fe-4d1e-9579-60d37c86bb7f"
      },
      "execution_count": 21,
      "outputs": [
        {
          "output_type": "stream",
          "name": "stdout",
          "text": [
            "Confussion matrix:\n",
            "[[7712  801]\n",
            " [1110 7418]]\n",
            "\n",
            "Classification report:\n",
            "              precision    recall  f1-score   support\n",
            "\n",
            "           0       0.87      0.91      0.89      8513\n",
            "           1       0.90      0.87      0.89      8528\n",
            "\n",
            "    accuracy                           0.89     17041\n",
            "   macro avg       0.89      0.89      0.89     17041\n",
            "weighted avg       0.89      0.89      0.89     17041\n",
            "\n"
          ]
        }
      ]
    },
    {
      "cell_type": "markdown",
      "source": [
        "Probemos ahora con Gradient Boosting."
      ],
      "metadata": {
        "id": "S6uzQ_AYLNMJ"
      }
    },
    {
      "cell_type": "code",
      "source": [
        "# Diferentes valores de estimadores\n",
        "param_grid = {'n_estimators': [100, 200, 500, 800, 1000]}\n",
        "\n",
        "# Inicializar el clasificador de Gradient Boosting\n",
        "gb_clf = GradientBoostingClassifier()\n",
        "\n",
        "# Inicializar GridSearchCV\n",
        "grid_search = GridSearchCV(gb_clf, param_grid, cv=5, scoring='accuracy')\n",
        "\n",
        "# Entrenar GridSearchCV\n",
        "grid_search.fit(X_train_, y_train)\n",
        "\n",
        "# Obtener el mejor número de estimadores\n",
        "best_n_estimators = grid_search.best_params_['n_estimators']\n",
        "print(\"Mejor número de estimadores:\", best_n_estimators)"
      ],
      "metadata": {
        "colab": {
          "base_uri": "https://localhost:8080/"
        },
        "id": "cxYNzRQyEGJU",
        "outputId": "a840d1ac-7b8a-4b26-8ee9-5a4feb0b2a78"
      },
      "execution_count": 22,
      "outputs": [
        {
          "output_type": "stream",
          "name": "stdout",
          "text": [
            "Mejor número de estimadores: 1000\n"
          ]
        }
      ]
    },
    {
      "cell_type": "code",
      "source": [
        "# Obtener el mejor modelo\n",
        "best_model = grid_search.best_estimator_\n",
        "\n",
        "# Entrenar el modelo con los datos de entrenamiento\n",
        "best_model.fit(X_train_, y_train)\n",
        "\n",
        "# Predecir las etiquetas en los datos de prueba\n",
        "y_train_pred = best_model.predict(X_train_)\n",
        "y_test_pred = best_model.predict(X_test_)\n",
        "\n",
        "# Calcular el accuracy del modelo\n",
        "accuracy_train_gb = accuracy_score(y_train, y_train_pred)\n",
        "accuracy_test_gb = accuracy_score(y_test, y_test_pred)\n",
        "print(\"Accuracy en train: {:.4f}\".format(accuracy_train_gb))\n",
        "print(\"Accuracy en test: {:.4f}\".format(accuracy_test_gb))"
      ],
      "metadata": {
        "colab": {
          "base_uri": "https://localhost:8080/"
        },
        "id": "K96MhD1REOvz",
        "outputId": "da5313d8-121b-4d05-b611-c0a86be57da1"
      },
      "execution_count": 23,
      "outputs": [
        {
          "output_type": "stream",
          "name": "stdout",
          "text": [
            "Accuracy en train: 0.9139\n",
            "Accuracy en test: 0.8481\n"
          ]
        }
      ]
    },
    {
      "cell_type": "code",
      "source": [
        "print('Confussion matrix:\\n{}'.format(confusion_matrix(y_train, y_train_pred)))\n",
        "print('\\nClassification report:\\n{}'.format(classification_report(y_train, y_train_pred)))\n",
        "#print('Accuracy score:{}'.format(accuracy_score(y_test, y_pred)))"
      ],
      "metadata": {
        "colab": {
          "base_uri": "https://localhost:8080/"
        },
        "id": "9PSeLtHN8bJH",
        "outputId": "49a5ef16-9fab-412a-a0b8-d94fca9759e8"
      },
      "execution_count": 24,
      "outputs": [
        {
          "output_type": "stream",
          "name": "stdout",
          "text": [
            "Confussion matrix:\n",
            "[[7957  556]\n",
            " [ 912 7616]]\n",
            "\n",
            "Classification report:\n",
            "              precision    recall  f1-score   support\n",
            "\n",
            "           0       0.90      0.93      0.92      8513\n",
            "           1       0.93      0.89      0.91      8528\n",
            "\n",
            "    accuracy                           0.91     17041\n",
            "   macro avg       0.91      0.91      0.91     17041\n",
            "weighted avg       0.91      0.91      0.91     17041\n",
            "\n"
          ]
        }
      ]
    },
    {
      "cell_type": "code",
      "source": [
        "modelos = ['regression_logistic', 'gradient_boosting']\n",
        "accuracy_train = [accuracy_train_lr, accuracy_train_gb]\n",
        "accuracy_test = [accuracy_test_lr, accuracy_test_gb]\n",
        "\n",
        "x = np.arange(len(modelos))\n",
        "width = 0.25\n",
        "\n",
        "fig, ax = plt.subplots()\n",
        "ax.bar(x - width, accuracy_train, width, label = 'accuracy_train')\n",
        "ax.bar(x , accuracy_test, width, label = 'accuracy_test')\n",
        "\n",
        "ax.set_xlabel('Modelos')\n",
        "ax.set_ylabel('Accuracy')\n",
        "ax.set_title('Comparativa de accuracy')\n",
        "ax.set_xticks(np.arange(len(modelos)), labels = modelos)\n",
        "ax.legend(loc = 'center')"
      ],
      "metadata": {
        "colab": {
          "base_uri": "https://localhost:8080/",
          "height": 489
        },
        "id": "W9MhfgWDg39A",
        "outputId": "cf3d222f-d34d-47de-f06b-ff440471f7b7"
      },
      "execution_count": 80,
      "outputs": [
        {
          "output_type": "execute_result",
          "data": {
            "text/plain": [
              "<matplotlib.legend.Legend at 0x78cc0548abc0>"
            ]
          },
          "metadata": {},
          "execution_count": 80
        },
        {
          "output_type": "display_data",
          "data": {
            "text/plain": [
              "<Figure size 640x480 with 1 Axes>"
            ],
            "image/png": "[encoded data removed]"
          },
          "metadata": {}
        }
      ]
    },
    {
      "cell_type": "markdown",
      "source": [
        "Podemos concluir que el modelo de Gradient Boosting clasifica mejor ya que tiene un mayor accuracy(91% sobre 88%) y la proporción de falsos positivos y falsos negativos es menor(8% sobre 11%).\n"
      ],
      "metadata": {
        "id": "c7kP5scQQpLa"
      }
    },
    {
      "cell_type": "markdown",
      "source": [
        "**5. Predict**"
      ],
      "metadata": {
        "id": "ZN_t63e4-rJu"
      }
    },
    {
      "cell_type": "markdown",
      "source": [
        "Creamos una función para poder comparar la etiqueta del comentario con la predicción obtenida por el modelo."
      ],
      "metadata": {
        "id": "GPZ9o2rWeLV6"
      }
    },
    {
      "cell_type": "code",
      "source": [
        "import random\n",
        "def predict_review_sentiment(review_index, model):\n",
        "    print('Actual sentiment: {}'.format(data.iloc[review_index]['label']))\n",
        "    r = data.iloc[review_index]['processed_text']\n",
        "    print('Prediction: {}'.format(model.predict(cv.transform([r]))))"
      ],
      "metadata": {
        "id": "gq3STSHbF_4j"
      },
      "execution_count": 25,
      "outputs": []
    },
    {
      "cell_type": "code",
      "source": [
        "# Con gradient boosting\n",
        "for i in random.sample(range(0, len(data)), 5):\n",
        "    print('\\nReview no. {}'.format(i))\n",
        "    predict_review_sentiment(i, best_model)"
      ],
      "metadata": {
        "colab": {
          "base_uri": "https://localhost:8080/"
        },
        "id": "ZHbFWPL8ebwi",
        "outputId": "9c437ad3-3ecd-436b-c6d6-7c078567050f"
      },
      "execution_count": 29,
      "outputs": [
        {
          "output_type": "stream",
          "name": "stdout",
          "text": [
            "\n",
            "Review no. 12163\n",
            "Actual sentiment: 1\n",
            "Prediction: [1]\n",
            "\n",
            "Review no. 4551\n",
            "Actual sentiment: 0\n",
            "Prediction: [0]\n",
            "\n",
            "Review no. 22247\n",
            "Actual sentiment: 1\n",
            "Prediction: [1]\n",
            "\n",
            "Review no. 14959\n",
            "Actual sentiment: 1\n",
            "Prediction: [0]\n",
            "\n",
            "Review no. 21279\n",
            "Actual sentiment: 1\n",
            "Prediction: [1]\n"
          ]
        }
      ]
    },
    {
      "cell_type": "code",
      "source": [
        "# Con regresión logística\n",
        "for i in random.sample(range(0, len(data)), 5):\n",
        "    print('\\nReview no. {}'.format(i))\n",
        "    predict_review_sentiment(i, best_lr)"
      ],
      "metadata": {
        "colab": {
          "base_uri": "https://localhost:8080/"
        },
        "id": "Tr7xcNN5-7qH",
        "outputId": "b1c6808d-4c6d-4bc0-c0bc-807c0eee5ccc"
      },
      "execution_count": 30,
      "outputs": [
        {
          "output_type": "stream",
          "name": "stdout",
          "text": [
            "\n",
            "Review no. 1955\n",
            "Actual sentiment: 0\n",
            "Prediction: [0]\n",
            "\n",
            "Review no. 7492\n",
            "Actual sentiment: 0\n",
            "Prediction: [0]\n",
            "\n",
            "Review no. 5217\n",
            "Actual sentiment: 0\n",
            "Prediction: [0]\n",
            "\n",
            "Review no. 7566\n",
            "Actual sentiment: 0\n",
            "Prediction: [1]\n",
            "\n",
            "Review no. 6769\n",
            "Actual sentiment: 0\n",
            "Prediction: [0]\n"
          ]
        }
      ]
    },
    {
      "cell_type": "markdown",
      "source": [
        "**6. Predicción de nuevos datos**"
      ],
      "metadata": {
        "id": "JL0FbAcPPnQE"
      }
    },
    {
      "cell_type": "code",
      "source": [
        "nombre_bucket_origen = 'ds-edw-processed-d1655b14'\n",
        "nombre_bucket_procesado = 'ds-edw-processed-d1655b14'\n",
        "nombre_blob_origen = 'CSV/new_processed.csv' # Aquí se pone el nombre de la carpeta CSV, barra / , y el nombre del csv con el que queremos trabajar\n",
        "archivo_descarga_local = 'new_processed.csv' # Aquí se pone solamente el nombre del csv con el que queremos trabajar\n",
        "descargar_de_bucket_origen(nombre_bucket_origen, nombre_blob_origen, archivo_descarga_local)"
      ],
      "metadata": {
        "colab": {
          "base_uri": "https://localhost:8080/"
        },
        "id": "xlHsFsgFXMsh",
        "outputId": "a71fcf38-6698-4244-d5ab-93f5ea6dc742"
      },
      "execution_count": 31,
      "outputs": [
        {
          "output_type": "stream",
          "name": "stdout",
          "text": [
            "Archivo CSV/new_processed.csv descargado como new_processed.csv.\n"
          ]
        }
      ]
    },
    {
      "cell_type": "code",
      "source": [
        "# Lectura de los nuevos datos\n",
        "new_data = pd.read_csv(archivo_descarga_local)\n",
        "new_data.head()"
      ],
      "metadata": {
        "colab": {
          "base_uri": "https://localhost:8080/",
          "height": 206
        },
        "id": "kVDJZDKLPsg7",
        "outputId": "7a6ad184-9f4b-4a9e-d874-7046d36a5dd5"
      },
      "execution_count": 32,
      "outputs": [
        {
          "output_type": "execute_result",
          "data": {
            "text/plain": [
              "                        Autor  \\\n",
              "0                   @slcuervo   \n",
              "1             @juanblanco2744   \n",
              "2                 @crikso1980   \n",
              "3  @ramoncillerofernandez6706   \n",
              "4    @josefasuarezsanchez8420   \n",
              "\n",
              "                                       new_processed  \n",
              "0  si lo se con el ataque de mala hostia que me e...  \n",
              "1  yapero lo mismo el k saques las matriculas es ...  \n",
              "2  pero eso pasa en todos los sitiosno es nada es...  \n",
              "3  senor si la tarifa en el punto de recarga fues...  \n",
              "4     saul esto es espana no hay verguenza que valga  "
            ],
            "text/html": [
              "\n",
              "  <div id=\"df-a38da17d-66aa-4918-8928-a5b71672d2fd\" class=\"colab-df-container\">\n",
              "    <div>\n",
              "<style scoped>\n",
              "    .dataframe tbody tr th:only-of-type {\n",
              "        vertical-align: middle;\n",
              "    }\n",
              "\n",
              "    .dataframe tbody tr th {\n",
              "        vertical-align: top;\n",
              "    }\n",
              "\n",
              "    .dataframe thead th {\n",
              "        text-align: right;\n",
              "    }\n",
              "</style>\n",
              "<table border=\"1\" class=\"dataframe\">\n",
              "  <thead>\n",
              "    <tr style=\"text-align: right;\">\n",
              "      <th></th>\n",
              "      <th>Autor</th>\n",
              "      <th>new_processed</th>\n",
              "    </tr>\n",
              "  </thead>\n",
              "  <tbody>\n",
              "    <tr>\n",
              "      <th>0</th>\n",
              "      <td>@slcuervo</td>\n",
              "      <td>si lo se con el ataque de mala hostia que me e...</td>\n",
              "    </tr>\n",
              "    <tr>\n",
              "      <th>1</th>\n",
              "      <td>@juanblanco2744</td>\n",
              "      <td>yapero lo mismo el k saques las matriculas es ...</td>\n",
              "    </tr>\n",
              "    <tr>\n",
              "      <th>2</th>\n",
              "      <td>@crikso1980</td>\n",
              "      <td>pero eso pasa en todos los sitiosno es nada es...</td>\n",
              "    </tr>\n",
              "    <tr>\n",
              "      <th>3</th>\n",
              "      <td>@ramoncillerofernandez6706</td>\n",
              "      <td>senor si la tarifa en el punto de recarga fues...</td>\n",
              "    </tr>\n",
              "    <tr>\n",
              "      <th>4</th>\n",
              "      <td>@josefasuarezsanchez8420</td>\n",
              "      <td>saul esto es espana no hay verguenza que valga</td>\n",
              "    </tr>\n",
              "  </tbody>\n",
              "</table>\n",
              "</div>\n",
              "    <div class=\"colab-df-buttons\">\n",
              "\n",
              "  <div class=\"colab-df-container\">\n",
              "    <button class=\"colab-df-convert\" onclick=\"convertToInteractive('df-a38da17d-66aa-4918-8928-a5b71672d2fd')\"\n",
              "            title=\"Convert this dataframe to an interactive table.\"\n",
              "            style=\"display:none;\">\n",
              "\n",
              "  <svg xmlns=\"http://www.w3.org/2000/svg\" height=\"24px\" viewBox=\"0 -960 960 960\">\n",
              "    <path d=\"M120-120v-720h720v720H120Zm60-500h600v-160H180v160Zm220 220h160v-160H400v160Zm0 220h160v-160H400v160ZM180-400h160v-160H180v160Zm440 0h160v-160H620v160ZM180-180h160v-160H180v160Zm440 0h160v-160H620v160Z\"/>\n",
              "  </svg>\n",
              "    </button>\n",
              "\n",
              "  <style>\n",
              "    .colab-df-container {\n",
              "      display:flex;\n",
              "      gap: 12px;\n",
              "    }\n",
              "\n",
              "    .colab-df-convert {\n",
              "      background-color: #E8F0FE;\n",
              "      border: none;\n",
              "      border-radius: 50%;\n",
              "      cursor: pointer;\n",
              "      display: none;\n",
              "      fill: #1967D2;\n",
              "      height: 32px;\n",
              "      padding: 0 0 0 0;\n",
              "      width: 32px;\n",
              "    }\n",
              "\n",
              "    .colab-df-convert:hover {\n",
              "      background-color: #E2EBFA;\n",
              "      box-shadow: 0px 1px 2px rgba(60, 64, 67, 0.3), 0px 1px 3px 1px rgba(60, 64, 67, 0.15);\n",
              "      fill: #174EA6;\n",
              "    }\n",
              "\n",
              "    .colab-df-buttons div {\n",
              "      margin-bottom: 4px;\n",
              "    }\n",
              "\n",
              "    [theme=dark] .colab-df-convert {\n",
              "      background-color: #3B4455;\n",
              "      fill: #D2E3FC;\n",
              "    }\n",
              "\n",
              "    [theme=dark] .colab-df-convert:hover {\n",
              "      background-color: #434B5C;\n",
              "      box-shadow: 0px 1px 3px 1px rgba(0, 0, 0, 0.15);\n",
              "      filter: drop-shadow(0px 1px 2px rgba(0, 0, 0, 0.3));\n",
              "      fill: #FFFFFF;\n",
              "    }\n",
              "  </style>\n",
              "\n",
              "    <script>\n",
              "      const buttonEl =\n",
              "        document.querySelector('#df-a38da17d-66aa-4918-8928-a5b71672d2fd button.colab-df-convert');\n",
              "      buttonEl.style.display =\n",
              "        google.colab.kernel.accessAllowed ? 'block' : 'none';\n",
              "\n",
              "      async function convertToInteractive(key) {\n",
              "        const element = document.querySelector('#df-a38da17d-66aa-4918-8928-a5b71672d2fd');\n",
              "        const dataTable =\n",
              "          await google.colab.kernel.invokeFunction('convertToInteractive',\n",
              "                                                    [key], {});\n",
              "        if (!dataTable) return;\n",
              "\n",
              "        const docLinkHtml = 'Like what you see? Visit the ' +\n",
              "          '<a target=\"_blank\" href=https://colab.research.google.com/notebooks/data_table.ipynb>data table notebook</a>'\n",
              "          + ' to learn more about interactive tables.';\n",
              "        element.innerHTML = '';\n",
              "        dataTable['output_type'] = 'display_data';\n",
              "        await google.colab.output.renderOutput(dataTable, element);\n",
              "        const docLink = document.createElement('div');\n",
              "        docLink.innerHTML = docLinkHtml;\n",
              "        element.appendChild(docLink);\n",
              "      }\n",
              "    </script>\n",
              "  </div>\n",
              "\n",
              "\n",
              "<div id=\"df-0de05210-e038-4af5-9802-74aeae137dce\">\n",
              "  <button class=\"colab-df-quickchart\" onclick=\"quickchart('df-0de05210-e038-4af5-9802-74aeae137dce')\"\n",
              "            title=\"Suggest charts\"\n",
              "            style=\"display:none;\">\n",
              "\n",
              "<svg xmlns=\"http://www.w3.org/2000/svg\" height=\"24px\"viewBox=\"0 0 24 24\"\n",
              "     width=\"24px\">\n",
              "    <g>\n",
              "        <path d=\"M19 3H5c-1.1 0-2 .9-2 2v14c0 1.1.9 2 2 2h14c1.1 0 2-.9 2-2V5c0-1.1-.9-2-2-2zM9 17H7v-7h2v7zm4 0h-2V7h2v10zm4 0h-2v-4h2v4z\"/>\n",
              "    </g>\n",
              "</svg>\n",
              "  </button>\n",
              "\n",
              "<style>\n",
              "  .colab-df-quickchart {\n",
              "      --bg-color: #E8F0FE;\n",
              "      --fill-color: #1967D2;\n",
              "      --hover-bg-color: #E2EBFA;\n",
              "      --hover-fill-color: #174EA6;\n",
              "      --disabled-fill-color: #AAA;\n",
              "      --disabled-bg-color: #DDD;\n",
              "  }\n",
              "\n",
              "  [theme=dark] .colab-df-quickchart {\n",
              "      --bg-color: #3B4455;\n",
              "      --fill-color: #D2E3FC;\n",
              "      --hover-bg-color: #434B5C;\n",
              "      --hover-fill-color: #FFFFFF;\n",
              "      --disabled-bg-color: #3B4455;\n",
              "      --disabled-fill-color: #666;\n",
              "  }\n",
              "\n",
              "  .colab-df-quickchart {\n",
              "    background-color: var(--bg-color);\n",
              "    border: none;\n",
              "    border-radius: 50%;\n",
              "    cursor: pointer;\n",
              "    display: none;\n",
              "    fill: var(--fill-color);\n",
              "    height: 32px;\n",
              "    padding: 0;\n",
              "    width: 32px;\n",
              "  }\n",
              "\n",
              "  .colab-df-quickchart:hover {\n",
              "    background-color: var(--hover-bg-color);\n",
              "    box-shadow: 0 1px 2px rgba(60, 64, 67, 0.3), 0 1px 3px 1px rgba(60, 64, 67, 0.15);\n",
              "    fill: var(--button-hover-fill-color);\n",
              "  }\n",
              "\n",
              "  .colab-df-quickchart-complete:disabled,\n",
              "  .colab-df-quickchart-complete:disabled:hover {\n",
              "    background-color: var(--disabled-bg-color);\n",
              "    fill: var(--disabled-fill-color);\n",
              "    box-shadow: none;\n",
              "  }\n",
              "\n",
              "  .colab-df-spinner {\n",
              "    border: 2px solid var(--fill-color);\n",
              "    border-color: transparent;\n",
              "    border-bottom-color: var(--fill-color);\n",
              "    animation:\n",
              "      spin 1s steps(1) infinite;\n",
              "  }\n",
              "\n",
              "  @keyframes spin {\n",
              "    0% {\n",
              "      border-color: transparent;\n",
              "      border-bottom-color: var(--fill-color);\n",
              "      border-left-color: var(--fill-color);\n",
              "    }\n",
              "    20% {\n",
              "      border-color: transparent;\n",
              "      border-left-color: var(--fill-color);\n",
              "      border-top-color: var(--fill-color);\n",
              "    }\n",
              "    30% {\n",
              "      border-color: transparent;\n",
              "      border-left-color: var(--fill-color);\n",
              "      border-top-color: var(--fill-color);\n",
              "      border-right-color: var(--fill-color);\n",
              "    }\n",
              "    40% {\n",
              "      border-color: transparent;\n",
              "      border-right-color: var(--fill-color);\n",
              "      border-top-color: var(--fill-color);\n",
              "    }\n",
              "    60% {\n",
              "      border-color: transparent;\n",
              "      border-right-color: var(--fill-color);\n",
              "    }\n",
              "    80% {\n",
              "      border-color: transparent;\n",
              "      border-right-color: var(--fill-color);\n",
              "      border-bottom-color: var(--fill-color);\n",
              "    }\n",
              "    90% {\n",
              "      border-color: transparent;\n",
              "      border-bottom-color: var(--fill-color);\n",
              "    }\n",
              "  }\n",
              "</style>\n",
              "\n",
              "  <script>\n",
              "    async function quickchart(key) {\n",
              "      const quickchartButtonEl =\n",
              "        document.querySelector('#' + key + ' button');\n",
              "      quickchartButtonEl.disabled = true;  // To prevent multiple clicks.\n",
              "      quickchartButtonEl.classList.add('colab-df-spinner');\n",
              "      try {\n",
              "        const charts = await google.colab.kernel.invokeFunction(\n",
              "            'suggestCharts', [key], {});\n",
              "      } catch (error) {\n",
              "        console.error('Error during call to suggestCharts:', error);\n",
              "      }\n",
              "      quickchartButtonEl.classList.remove('colab-df-spinner');\n",
              "      quickchartButtonEl.classList.add('colab-df-quickchart-complete');\n",
              "    }\n",
              "    (() => {\n",
              "      let quickchartButtonEl =\n",
              "        document.querySelector('#df-0de05210-e038-4af5-9802-74aeae137dce button');\n",
              "      quickchartButtonEl.style.display =\n",
              "        google.colab.kernel.accessAllowed ? 'block' : 'none';\n",
              "    })();\n",
              "  </script>\n",
              "</div>\n",
              "    </div>\n",
              "  </div>\n"
            ],
            "application/vnd.google.colaboratory.intrinsic+json": {
              "type": "dataframe",
              "variable_name": "new_data",
              "summary": "{\n  \"name\": \"new_data\",\n  \"rows\": 444,\n  \"fields\": [\n    {\n      \"column\": \"Autor\",\n      \"properties\": {\n        \"dtype\": \"string\",\n        \"num_unique_values\": 431,\n        \"samples\": [\n          \"@oblitum\",\n          \"@Dominguez1910\",\n          \"@siriusjjc\"\n        ],\n        \"semantic_type\": \"\",\n        \"description\": \"\"\n      }\n    },\n    {\n      \"column\": \"new_processed\",\n      \"properties\": {\n        \"dtype\": \"string\",\n        \"num_unique_values\": 441,\n        \"samples\": [\n          \"perdona mi ignorancia en el tema estoy interesandome en cambiar a lo electrico desde que te descubri pero el termino termico lo usas para referirte a los de combustion\",\n          \"no llevas el rotulador saul\",\n          \"que significa se la sopla en espana\"\n        ],\n        \"semantic_type\": \"\",\n        \"description\": \"\"\n      }\n    }\n  ]\n}"
            }
          },
          "metadata": {},
          "execution_count": 32
        }
      ]
    },
    {
      "cell_type": "code",
      "source": [
        "# Vectorizamos los nuevos comentarios para poder predecir su etiqueta\n",
        "new_comments = new_data['new_processed']\n",
        "new_comments_vectorizado = cv.transform(new_comments)"
      ],
      "metadata": {
        "id": "X3BNr0VfQG5X"
      },
      "execution_count": 33,
      "outputs": []
    },
    {
      "cell_type": "code",
      "source": [
        "# Calculamos las predicciones con ambos modelos\n",
        "y_lr = best_lr.predict(new_comments_vectorizado) # Con regresión logística\n",
        "y_gb = best_model.predict(new_comments_vectorizado) # Con gradient boosting"
      ],
      "metadata": {
        "id": "D2NRDWKUA5Y8"
      },
      "execution_count": 34,
      "outputs": []
    },
    {
      "cell_type": "code",
      "source": [
        "# Creamos un dataframe los comentarios y sus etiquetas\n",
        "new_df = pd.DataFrame({\n",
        "    'comments': new_comments,\n",
        "    'Logistic Regression': y_lr,\n",
        "    'Gradient Boosting': y_gb\n",
        "})\n",
        "new_df.head()"
      ],
      "metadata": {
        "colab": {
          "base_uri": "https://localhost:8080/",
          "height": 206
        },
        "id": "oAl4pgD-UJpX",
        "outputId": "d707090c-9302-471c-bf86-bb1cd46a16e0"
      },
      "execution_count": 37,
      "outputs": [
        {
          "output_type": "execute_result",
          "data": {
            "text/plain": [
              "                                            comments  Logistic Regression  \\\n",
              "0  si lo se con el ataque de mala hostia que me e...                    0   \n",
              "1  yapero lo mismo el k saques las matriculas es ...                    1   \n",
              "2  pero eso pasa en todos los sitiosno es nada es...                    0   \n",
              "3  senor si la tarifa en el punto de recarga fues...                    0   \n",
              "4     saul esto es espana no hay verguenza que valga                    1   \n",
              "\n",
              "   Gradient Boosting  \n",
              "0                  0  \n",
              "1                  0  \n",
              "2                  0  \n",
              "3                  0  \n",
              "4                  0  "
            ],
            "text/html": [
              "\n",
              "  <div id=\"df-e1904a72-b9e2-44bb-8ca0-ff6fc5c8fafd\" class=\"colab-df-container\">\n",
              "    <div>\n",
              "<style scoped>\n",
              "    .dataframe tbody tr th:only-of-type {\n",
              "        vertical-align: middle;\n",
              "    }\n",
              "\n",
              "    .dataframe tbody tr th {\n",
              "        vertical-align: top;\n",
              "    }\n",
              "\n",
              "    .dataframe thead th {\n",
              "        text-align: right;\n",
              "    }\n",
              "</style>\n",
              "<table border=\"1\" class=\"dataframe\">\n",
              "  <thead>\n",
              "    <tr style=\"text-align: right;\">\n",
              "      <th></th>\n",
              "      <th>comments</th>\n",
              "      <th>Logistic Regression</th>\n",
              "      <th>Gradient Boosting</th>\n",
              "    </tr>\n",
              "  </thead>\n",
              "  <tbody>\n",
              "    <tr>\n",
              "      <th>0</th>\n",
              "      <td>si lo se con el ataque de mala hostia que me e...</td>\n",
              "      <td>0</td>\n",
              "      <td>0</td>\n",
              "    </tr>\n",
              "    <tr>\n",
              "      <th>1</th>\n",
              "      <td>yapero lo mismo el k saques las matriculas es ...</td>\n",
              "      <td>1</td>\n",
              "      <td>0</td>\n",
              "    </tr>\n",
              "    <tr>\n",
              "      <th>2</th>\n",
              "      <td>pero eso pasa en todos los sitiosno es nada es...</td>\n",
              "      <td>0</td>\n",
              "      <td>0</td>\n",
              "    </tr>\n",
              "    <tr>\n",
              "      <th>3</th>\n",
              "      <td>senor si la tarifa en el punto de recarga fues...</td>\n",
              "      <td>0</td>\n",
              "      <td>0</td>\n",
              "    </tr>\n",
              "    <tr>\n",
              "      <th>4</th>\n",
              "      <td>saul esto es espana no hay verguenza que valga</td>\n",
              "      <td>1</td>\n",
              "      <td>0</td>\n",
              "    </tr>\n",
              "  </tbody>\n",
              "</table>\n",
              "</div>\n",
              "    <div class=\"colab-df-buttons\">\n",
              "\n",
              "  <div class=\"colab-df-container\">\n",
              "    <button class=\"colab-df-convert\" onclick=\"convertToInteractive('df-e1904a72-b9e2-44bb-8ca0-ff6fc5c8fafd')\"\n",
              "            title=\"Convert this dataframe to an interactive table.\"\n",
              "            style=\"display:none;\">\n",
              "\n",
              "  <svg xmlns=\"http://www.w3.org/2000/svg\" height=\"24px\" viewBox=\"0 -960 960 960\">\n",
              "    <path d=\"M120-120v-720h720v720H120Zm60-500h600v-160H180v160Zm220 220h160v-160H400v160Zm0 220h160v-160H400v160ZM180-400h160v-160H180v160Zm440 0h160v-160H620v160ZM180-180h160v-160H180v160Zm440 0h160v-160H620v160Z\"/>\n",
              "  </svg>\n",
              "    </button>\n",
              "\n",
              "  <style>\n",
              "    .colab-df-container {\n",
              "      display:flex;\n",
              "      gap: 12px;\n",
              "    }\n",
              "\n",
              "    .colab-df-convert {\n",
              "      background-color: #E8F0FE;\n",
              "      border: none;\n",
              "      border-radius: 50%;\n",
              "      cursor: pointer;\n",
              "      display: none;\n",
              "      fill: #1967D2;\n",
              "      height: 32px;\n",
              "      padding: 0 0 0 0;\n",
              "      width: 32px;\n",
              "    }\n",
              "\n",
              "    .colab-df-convert:hover {\n",
              "      background-color: #E2EBFA;\n",
              "      box-shadow: 0px 1px 2px rgba(60, 64, 67, 0.3), 0px 1px 3px 1px rgba(60, 64, 67, 0.15);\n",
              "      fill: #174EA6;\n",
              "    }\n",
              "\n",
              "    .colab-df-buttons div {\n",
              "      margin-bottom: 4px;\n",
              "    }\n",
              "\n",
              "    [theme=dark] .colab-df-convert {\n",
              "      background-color: #3B4455;\n",
              "      fill: #D2E3FC;\n",
              "    }\n",
              "\n",
              "    [theme=dark] .colab-df-convert:hover {\n",
              "      background-color: #434B5C;\n",
              "      box-shadow: 0px 1px 3px 1px rgba(0, 0, 0, 0.15);\n",
              "      filter: drop-shadow(0px 1px 2px rgba(0, 0, 0, 0.3));\n",
              "      fill: #FFFFFF;\n",
              "    }\n",
              "  </style>\n",
              "\n",
              "    <script>\n",
              "      const buttonEl =\n",
              "        document.querySelector('#df-e1904a72-b9e2-44bb-8ca0-ff6fc5c8fafd button.colab-df-convert');\n",
              "      buttonEl.style.display =\n",
              "        google.colab.kernel.accessAllowed ? 'block' : 'none';\n",
              "\n",
              "      async function convertToInteractive(key) {\n",
              "        const element = document.querySelector('#df-e1904a72-b9e2-44bb-8ca0-ff6fc5c8fafd');\n",
              "        const dataTable =\n",
              "          await google.colab.kernel.invokeFunction('convertToInteractive',\n",
              "                                                    [key], {});\n",
              "        if (!dataTable) return;\n",
              "\n",
              "        const docLinkHtml = 'Like what you see? Visit the ' +\n",
              "          '<a target=\"_blank\" href=https://colab.research.google.com/notebooks/data_table.ipynb>data table notebook</a>'\n",
              "          + ' to learn more about interactive tables.';\n",
              "        element.innerHTML = '';\n",
              "        dataTable['output_type'] = 'display_data';\n",
              "        await google.colab.output.renderOutput(dataTable, element);\n",
              "        const docLink = document.createElement('div');\n",
              "        docLink.innerHTML = docLinkHtml;\n",
              "        element.appendChild(docLink);\n",
              "      }\n",
              "    </script>\n",
              "  </div>\n",
              "\n",
              "\n",
              "<div id=\"df-2a45a952-42a8-4276-aebc-b7d080efe728\">\n",
              "  <button class=\"colab-df-quickchart\" onclick=\"quickchart('df-2a45a952-42a8-4276-aebc-b7d080efe728')\"\n",
              "            title=\"Suggest charts\"\n",
              "            style=\"display:none;\">\n",
              "\n",
              "<svg xmlns=\"http://www.w3.org/2000/svg\" height=\"24px\"viewBox=\"0 0 24 24\"\n",
              "     width=\"24px\">\n",
              "    <g>\n",
              "        <path d=\"M19 3H5c-1.1 0-2 .9-2 2v14c0 1.1.9 2 2 2h14c1.1 0 2-.9 2-2V5c0-1.1-.9-2-2-2zM9 17H7v-7h2v7zm4 0h-2V7h2v10zm4 0h-2v-4h2v4z\"/>\n",
              "    </g>\n",
              "</svg>\n",
              "  </button>\n",
              "\n",
              "<style>\n",
              "  .colab-df-quickchart {\n",
              "      --bg-color: #E8F0FE;\n",
              "      --fill-color: #1967D2;\n",
              "      --hover-bg-color: #E2EBFA;\n",
              "      --hover-fill-color: #174EA6;\n",
              "      --disabled-fill-color: #AAA;\n",
              "      --disabled-bg-color: #DDD;\n",
              "  }\n",
              "\n",
              "  [theme=dark] .colab-df-quickchart {\n",
              "      --bg-color: #3B4455;\n",
              "      --fill-color: #D2E3FC;\n",
              "      --hover-bg-color: #434B5C;\n",
              "      --hover-fill-color: #FFFFFF;\n",
              "      --disabled-bg-color: #3B4455;\n",
              "      --disabled-fill-color: #666;\n",
              "  }\n",
              "\n",
              "  .colab-df-quickchart {\n",
              "    background-color: var(--bg-color);\n",
              "    border: none;\n",
              "    border-radius: 50%;\n",
              "    cursor: pointer;\n",
              "    display: none;\n",
              "    fill: var(--fill-color);\n",
              "    height: 32px;\n",
              "    padding: 0;\n",
              "    width: 32px;\n",
              "  }\n",
              "\n",
              "  .colab-df-quickchart:hover {\n",
              "    background-color: var(--hover-bg-color);\n",
              "    box-shadow: 0 1px 2px rgba(60, 64, 67, 0.3), 0 1px 3px 1px rgba(60, 64, 67, 0.15);\n",
              "    fill: var(--button-hover-fill-color);\n",
              "  }\n",
              "\n",
              "  .colab-df-quickchart-complete:disabled,\n",
              "  .colab-df-quickchart-complete:disabled:hover {\n",
              "    background-color: var(--disabled-bg-color);\n",
              "    fill: var(--disabled-fill-color);\n",
              "    box-shadow: none;\n",
              "  }\n",
              "\n",
              "  .colab-df-spinner {\n",
              "    border: 2px solid var(--fill-color);\n",
              "    border-color: transparent;\n",
              "    border-bottom-color: var(--fill-color);\n",
              "    animation:\n",
              "      spin 1s steps(1) infinite;\n",
              "  }\n",
              "\n",
              "  @keyframes spin {\n",
              "    0% {\n",
              "      border-color: transparent;\n",
              "      border-bottom-color: var(--fill-color);\n",
              "      border-left-color: var(--fill-color);\n",
              "    }\n",
              "    20% {\n",
              "      border-color: transparent;\n",
              "      border-left-color: var(--fill-color);\n",
              "      border-top-color: var(--fill-color);\n",
              "    }\n",
              "    30% {\n",
              "      border-color: transparent;\n",
              "      border-left-color: var(--fill-color);\n",
              "      border-top-color: var(--fill-color);\n",
              "      border-right-color: var(--fill-color);\n",
              "    }\n",
              "    40% {\n",
              "      border-color: transparent;\n",
              "      border-right-color: var(--fill-color);\n",
              "      border-top-color: var(--fill-color);\n",
              "    }\n",
              "    60% {\n",
              "      border-color: transparent;\n",
              "      border-right-color: var(--fill-color);\n",
              "    }\n",
              "    80% {\n",
              "      border-color: transparent;\n",
              "      border-right-color: var(--fill-color);\n",
              "      border-bottom-color: var(--fill-color);\n",
              "    }\n",
              "    90% {\n",
              "      border-color: transparent;\n",
              "      border-bottom-color: var(--fill-color);\n",
              "    }\n",
              "  }\n",
              "</style>\n",
              "\n",
              "  <script>\n",
              "    async function quickchart(key) {\n",
              "      const quickchartButtonEl =\n",
              "        document.querySelector('#' + key + ' button');\n",
              "      quickchartButtonEl.disabled = true;  // To prevent multiple clicks.\n",
              "      quickchartButtonEl.classList.add('colab-df-spinner');\n",
              "      try {\n",
              "        const charts = await google.colab.kernel.invokeFunction(\n",
              "            'suggestCharts', [key], {});\n",
              "      } catch (error) {\n",
              "        console.error('Error during call to suggestCharts:', error);\n",
              "      }\n",
              "      quickchartButtonEl.classList.remove('colab-df-spinner');\n",
              "      quickchartButtonEl.classList.add('colab-df-quickchart-complete');\n",
              "    }\n",
              "    (() => {\n",
              "      let quickchartButtonEl =\n",
              "        document.querySelector('#df-2a45a952-42a8-4276-aebc-b7d080efe728 button');\n",
              "      quickchartButtonEl.style.display =\n",
              "        google.colab.kernel.accessAllowed ? 'block' : 'none';\n",
              "    })();\n",
              "  </script>\n",
              "</div>\n",
              "    </div>\n",
              "  </div>\n"
            ],
            "application/vnd.google.colaboratory.intrinsic+json": {
              "type": "dataframe",
              "variable_name": "new_df",
              "summary": "{\n  \"name\": \"new_df\",\n  \"rows\": 444,\n  \"fields\": [\n    {\n      \"column\": \"comments\",\n      \"properties\": {\n        \"dtype\": \"string\",\n        \"num_unique_values\": 441,\n        \"samples\": [\n          \"perdona mi ignorancia en el tema estoy interesandome en cambiar a lo electrico desde que te descubri pero el termino termico lo usas para referirte a los de combustion\",\n          \"no llevas el rotulador saul\",\n          \"que significa se la sopla en espana\"\n        ],\n        \"semantic_type\": \"\",\n        \"description\": \"\"\n      }\n    },\n    {\n      \"column\": \"Logistic Regression\",\n      \"properties\": {\n        \"dtype\": \"number\",\n        \"std\": 0,\n        \"min\": 0,\n        \"max\": 1,\n        \"num_unique_values\": 2,\n        \"samples\": [\n          1,\n          0\n        ],\n        \"semantic_type\": \"\",\n        \"description\": \"\"\n      }\n    },\n    {\n      \"column\": \"Gradient Boosting\",\n      \"properties\": {\n        \"dtype\": \"number\",\n        \"std\": 0,\n        \"min\": 0,\n        \"max\": 1,\n        \"num_unique_values\": 2,\n        \"samples\": [\n          1,\n          0\n        ],\n        \"semantic_type\": \"\",\n        \"description\": \"\"\n      }\n    }\n  ]\n}"
            }
          },
          "metadata": {},
          "execution_count": 37
        }
      ]
    },
    {
      "cell_type": "code",
      "source": [
        "# Guardamos los comentarios con sus etiquetas en un csv\n",
        "new_df.to_csv('predict_comments.csv', index=False)"
      ],
      "metadata": {
        "id": "73eYg58mZIBo"
      },
      "execution_count": 38,
      "outputs": []
    },
    {
      "cell_type": "code",
      "source": [
        "def subir_a_bucket_destino(nombre_bucket_procesado, nombre_archivo_destino, nombre_blob_destino):\n",
        "    cliente = storage.Client()\n",
        "    bucket = cliente.bucket(nombre_bucket_procesado)\n",
        "    blob = bucket.blob(nombre_blob_destino)\n",
        "    # Verificar si el archivo ya existe en el bucket\n",
        "    if blob.exists():\n",
        "        print(f\"El archivo {nombre_blob_destino} ya existe en el bucket {nombre_bucket_procesado} y no se ha subido por no sobreescribirlo y preservar los datos, pon otro nombre o solicita ayuda al administrador del bucket.\")\n",
        "    else:\n",
        "        blob.upload_from_filename(nombre_archivo_destino)\n",
        "        print(f\"Archivo {nombre_archivo_destino} subido a {nombre_blob_destino} en el bucket {nombre_bucket_procesado}.\")\n",
        "\n",
        "nombre_bucket_procesado = 'ds-edw-processed-d1655b14'\n",
        "nombre_blob_destino = 'CSV/predict_comments.csv'\n",
        "nombre_archivo_destino = 'predict_comments.csv'\n",
        "subir_a_bucket_destino(nombre_bucket_procesado, nombre_archivo_destino, nombre_blob_destino)"
      ],
      "metadata": {
        "colab": {
          "base_uri": "https://localhost:8080/"
        },
        "id": "KlsNnCnaXjpy",
        "outputId": "814992c1-a30a-4d2d-fc5c-337d35231f6f"
      },
      "execution_count": 39,
      "outputs": [
        {
          "output_type": "stream",
          "name": "stdout",
          "text": [
            "Archivo predict_comments.csv subido a CSV/predict_comments.csv en el bucket ds-edw-processed-d1655b14.\n"
          ]
        }
      ]
    }
  ]
}