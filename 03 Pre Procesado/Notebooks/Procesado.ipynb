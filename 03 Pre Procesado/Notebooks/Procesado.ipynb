{
  "nbformat": 4,
  "nbformat_minor": 0,
  "metadata": {
    "colab": {
      "provenance": []
    },
    "kernelspec": {
      "name": "python3",
      "display_name": "Python 3"
    },
    "language_info": {
      "name": "python"
    }
  },
  "cells": [
    {
      "cell_type": "markdown",
      "source": [
        "**PROCESADO**"
      ],
      "metadata": {
        "id": "SJOAQsYy2-81"
      }
    },
    {
      "cell_type": "markdown",
      "source": [
        "**1. Preparación del entorno**"
      ],
      "metadata": {
        "id": "foWSSkKT3Ei4"
      }
    },
    {
      "cell_type": "code",
      "source": [
        "try:\n",
        "  from google.colab import auth\n",
        "  auth.authenticate_user()\n",
        "  from googleapiclient.discovery import build\n",
        "  from google.cloud import storage\n",
        "  from unidecode import unidecode\n",
        "  from collections import Counter\n",
        "  from itertools import combinations\n",
        "  from nltk.corpus import stopwords\n",
        "  from nltk.tokenize import RegexpTokenizer\n",
        "  from sklearn.utils import resample\n",
        "  from google.cloud import storage\n",
        "  from num2words import num2words\n",
        "  from matplotlib.backends.backend_pdf import PdfPages\n",
        "  import pandas as pd\n",
        "  import numpy as np\n",
        "  import random\n",
        "  import string\n",
        "  import regex as re\n",
        "  import matplotlib.pyplot as plt\n",
        "  import nltk\n",
        "  import emoji\n",
        "  nltk.download('stopwords')\n",
        "\n",
        "except:\n",
        "  !pip install google-cloud-storage\n",
        "  !pip install pandas\n",
        "  !pip install unidecode\n",
        "  !pip install num2words\n",
        "  !pip install --upgrade emoji"
      ],
      "metadata": {
        "id": "ys55wY47rHxv",
        "colab": {
          "base_uri": "https://localhost:8080/"
        },
        "outputId": "dd21b083-706d-462a-9b32-54b92d973d01"
      },
      "execution_count": 3,
      "outputs": [
        {
          "output_type": "stream",
          "name": "stderr",
          "text": [
            "[nltk_data] Downloading package stopwords to /root/nltk_data...\n",
            "[nltk_data]   Unzipping corpora/stopwords.zip.\n"
          ]
        }
      ]
    },
    {
      "cell_type": "code",
      "source": [
        "def descargar_de_bucket_origen(nombre_bucket_origen, nombre_blob_origen, nombre_archivo_destino):\n",
        "    cliente = storage.Client()\n",
        "    bucket = cliente.bucket(nombre_bucket_origen)\n",
        "    blob = bucket.blob(nombre_blob_origen)\n",
        "    blob.download_to_filename(nombre_archivo_destino)\n",
        "    print(f\"Archivo {nombre_blob_origen} descargado como {nombre_archivo_destino}.\")\n",
        "\n",
        "def subir_a_bucket_destino(nombre_bucket_procesado, nombre_archivo_destino, nombre_blob_destino):\n",
        "    cliente = storage.Client()\n",
        "    bucket = cliente.bucket(nombre_bucket_procesado)\n",
        "    blob = bucket.blob(nombre_blob_destino)\n",
        "    # Verificar si el archivo ya existe en el bucket\n",
        "    if blob.exists():\n",
        "        print(f\"El archivo {nombre_blob_destino} ya existe en el bucket {nombre_bucket_procesado} y no se ha subido por no sobreescribirlo y preservar los datos, pon otro nombre o solicita ayuda al administrador del bucket.\")\n",
        "    else:\n",
        "        blob.upload_from_filename(nombre_archivo_destino)\n",
        "        print(f\"Archivo {nombre_archivo_destino} subido a {nombre_blob_destino} en el bucket {nombre_bucket_procesado}.\")\n",
        "\n",
        "nombre_bucket_origen = 'ds-edw-processed-d1655b14'\n",
        "nombre_bucket_procesado = 'ds-edw-processed-d1655b14'\n",
        "nombre_blob_origen = 'CSV/processed/df_concat.csv'\n",
        "ruta_descarga_local = 'df_concat.csv'\n",
        "descargar_de_bucket_origen(nombre_bucket_origen, nombre_blob_origen, ruta_descarga_local)\n",
        "\n",
        "input_file_1 = pd.read_csv(ruta_descarga_local)"
      ],
      "metadata": {
        "colab": {
          "base_uri": "https://localhost:8080/"
        },
        "id": "xpEwIcdNeDOh",
        "outputId": "e35178c0-2b66-4226-c067-75c6caa651dc"
      },
      "execution_count": 4,
      "outputs": [
        {
          "output_type": "stream",
          "name": "stdout",
          "text": [
            "Archivo CSV/processed/df_concat.csv descargado como df_concat.csv.\n"
          ]
        }
      ]
    },
    {
      "cell_type": "markdown",
      "source": [
        "**2. Pipeline**"
      ],
      "metadata": {
        "id": "rdV1mssn38TS"
      }
    },
    {
      "cell_type": "code",
      "source": [
        "emoji_pattern = re.compile(\"[\"\n",
        "            u\"\\U0001F600-\\U0001F64F\"  # Emoticonos y expresiones faciales\n",
        "            u\"\\U0001F300-\\U0001F5FF\"  # Símbolos y pictogramas\n",
        "            u\"\\U0001F680-\\U0001F6FF\"  # Transporte y símbolos de mapa\n",
        "            u\"\\U0001F3B5-\\U0001F3EF\"  # Símbolos de nota musical\n",
        "            u\"\\U0001F700-\\U0001F77F\"  # Símbolos alquímicos\n",
        "            u\"\\U0001F7E0-\\U0001F7EB\"  # Símbolos matemáticos\n",
        "            u\"\\U0001F0A0-\\U0001F0FF\"  # Símbolos de cartas de juego\n",
        "            u\"\\U0001F000-\\U0001F02F\"  # Símbolos de mahjong\n",
        "            u\"\\U0001F030-\\U0001F09F\"  # Símbolos de puntuación y flechas\n",
        "            u\"\\U0001F200-\\U0001F2FF\"  # Símbolos de estilo tipográfico\n",
        "            \"]+\", flags=re.UNICODE)\n",
        "def preprocess_data(input_file, output_file, balance_ratio=1):\n",
        "    # Cargar datos desde el archivo CSV\n",
        "    data = pd.read_csv(input_file)\n",
        "\n",
        "    # Eliminar filas con valores NaN\n",
        "    data.dropna(subset=['text'], inplace=True)\n",
        "\n",
        "    # Submuestrear la clase mayoritaria para balancear las clases\n",
        "    df_majority = data[data['label'] == 0]\n",
        "    df_minority = data[data['label'] == 1]\n",
        "    df_majority_downsampled = resample(df_majority, replace=False, n_samples=int(len(df_minority) * balance_ratio), random_state=42)\n",
        "    data_balanced = pd.concat([df_majority_downsampled, df_minority])\n",
        "\n",
        "    # Guardar el DataFrame procesado en un archivo CSV\n",
        "    data_balanced.to_csv('df_balanced.csv', index=False)\n",
        "\n",
        "    # Función para eliminar emojis del texto\n",
        "    def remove_emojis(text):\n",
        "        return emoji_pattern.sub('', text)\n",
        "\n",
        "    # Función para limpiar y procesar el texto\n",
        "    def clean_text(text):\n",
        "        # Eliminar emojis\n",
        "        text = remove_emojis(text)\n",
        "        # Eliminar nombres de usuario\n",
        "        text = re.sub(r'@[A-Za-z0-9_]+', '', text)\n",
        "        # Eliminar puntuación y convertir a minúsculas\n",
        "        text = re.sub(r'[^\\w\\s]', '', text)  # Eliminar todos los caracteres de puntuación\n",
        "        text = unidecode(text)  # Eliminar acentos\n",
        "        text = text.lower()  # Convertir a minúsculas\n",
        "        # Eliminar exclamaciones específicamente\n",
        "        text = text.replace('!', '')\n",
        "        # Convertir números a palabras\n",
        "        words = [num2words(word, lang='es') if word.isdigit() else word for word in text.split()]\n",
        "        text = ' '.join(words)\n",
        "        return text\n",
        "\n",
        "    # Aplicar la limpieza al texto\n",
        "    data_balanced['processed_text'] = data_balanced['text'].apply(clean_text)\n",
        "\n",
        "     # Eliminar la columna 'text' del DataFrame después de guardar\n",
        "    data_balanced.drop('text', axis=1, inplace=True)\n",
        "\n",
        "    # Guardar el DataFrame procesado en un archivo CSV\n",
        "    data_balanced.to_csv(output_file, index=False)\n",
        "\n",
        "    return output_file\n",
        "\n",
        "# Especificar el nombre del archivo de entrada y salida, y el ratio de balanceo\n",
        "input_file = 'df_concat.csv'\n",
        "output_file = 'df_processed.csv'\n",
        "balance_ratio = 1\n",
        "\n",
        "# Llamar a la función preprocess_data para realizar el preprocesamiento\n",
        "processed_file = preprocess_data(input_file, output_file, balance_ratio)\n",
        "print(f'Los datos preprocesados han sido guardados en: {processed_file}')\n",
        "\n",
        "nombre_bucket_procesado = 'ds-edw-processed-d1655b14'\n",
        "nombre_blob_destino = 'CSV/df_processed.csv'\n",
        "subir_a_bucket_destino(nombre_bucket_procesado, output_file, nombre_blob_destino)"
      ],
      "metadata": {
        "id": "_jwGRXer37Xa",
        "colab": {
          "base_uri": "https://localhost:8080/"
        },
        "outputId": "7ab8059b-c9c0-4a6e-97ae-eca17d705da4"
      },
      "execution_count": 11,
      "outputs": [
        {
          "output_type": "stream",
          "name": "stdout",
          "text": [
            "Los datos preprocesados han sido guardados en: df_processed.csv\n",
            "El archivo CSV/df_processed.csv ya existe en el bucket ds-edw-processed-d1655b14 y no se ha subido por no sobreescribirlo y preservar los datos, pon otro nombre o solicita ayuda al administrador del bucket.\n"
          ]
        }
      ]
    },
    {
      "cell_type": "code",
      "source": [
        "input_file = pd.read_csv(ruta_descarga_local)\n",
        "df_tab = input_file\n",
        "\n",
        "def extract_and_count_emojis(text):\n",
        "    if isinstance(text, str):\n",
        "        emoji_list = []\n",
        "        emoji_list = emoji_pattern.findall(text)\n",
        "        return emoji_list\n",
        "    else:\n",
        "        return []  #lista vacía si no es una cadena de texto\n",
        "\n",
        "# Aplicar la función a la columna 'text' para obtener una lista de emoticonos por fila\n",
        "df_tab['emoji'] = df_tab['text'].apply(extract_and_count_emojis)\n",
        "\n",
        "# Crear un DataFrame nuevo df_emoji con todos los emoticonos en una sola columna\n",
        "all_emoji = [emoji for sublist in df_tab['emoji'] for emoji in sublist]\n",
        "\n",
        "# Calcular el porcentaje de aparición de cada emoticono con respecto al total de emoticonos\n",
        "emoji_counts = pd.Series(all_emoji).value_counts()\n",
        "total_emojis = len(all_emoji)\n",
        "df_emoji = (emoji_counts / total_emojis * 100).round(2).reset_index()\n",
        "\n",
        "# Renombrar las columnas en el DataFrame de resultados\n",
        "df_emoji.columns = ['emoji', '% del total']\n",
        "\n",
        "# Ordenar el DataFrame por el porcentaje del total de mayor a menor\n",
        "df_emoji.reset_index(drop=True, inplace=True)\n",
        "\n",
        "# Guardar el DataFrame ordenado en un archivo CSV\n",
        "output_file = \"df_emoji.csv\"\n",
        "df_emoji.to_csv(output_file, index=False)\n",
        "\n",
        "nombre_bucket_procesado = 'ds-edw-processed-d1655b14'\n",
        "nombre_blob_destino = 'CSV/processed/df_emoji.csv'\n",
        "subir_a_bucket_destino(nombre_bucket_procesado, output_file, nombre_blob_destino)"
      ],
      "metadata": {
        "colab": {
          "base_uri": "https://localhost:8080/"
        },
        "id": "_xQ5MO1E1AEG",
        "outputId": "b3ac1183-9d2f-48e8-8275-ce0aa249eebf"
      },
      "execution_count": 12,
      "outputs": [
        {
          "output_type": "stream",
          "name": "stdout",
          "text": [
            "El archivo CSV/processed/df_emoji.csv ya existe en el bucket ds-edw-processed-d1655b14 y no se ha subido por no sobreescribirlo y preservar los datos, pon otro nombre o solicita ayuda al administrador del bucket.\n"
          ]
        }
      ]
    },
    {
      "cell_type": "markdown",
      "source": [
        "**3. Comprobación del procesado**"
      ],
      "metadata": {
        "id": "MhQIlIdrrggI"
      }
    },
    {
      "cell_type": "code",
      "source": [
        "data_balanced = pd.read_csv('df_balanced.csv')\n",
        "data_balanced.info()\n",
        "print(\".\" * 20)\n",
        "df_processed = pd.read_csv('df_processed.csv')\n",
        "df_processed.info()"
      ],
      "metadata": {
        "id": "wCtfqM-aogs7",
        "colab": {
          "base_uri": "https://localhost:8080/"
        },
        "outputId": "2905b572-9a73-4a1e-8d04-132cc07f1d37"
      },
      "execution_count": 13,
      "outputs": [
        {
          "output_type": "stream",
          "name": "stdout",
          "text": [
            "<class 'pandas.core.frame.DataFrame'>\n",
            "RangeIndex: 22722 entries, 0 to 22721\n",
            "Data columns (total 2 columns):\n",
            " #   Column  Non-Null Count  Dtype \n",
            "---  ------  --------------  ----- \n",
            " 0   text    22722 non-null  object\n",
            " 1   label   22722 non-null  int64 \n",
            "dtypes: int64(1), object(1)\n",
            "memory usage: 355.2+ KB\n",
            "....................\n",
            "<class 'pandas.core.frame.DataFrame'>\n",
            "RangeIndex: 22722 entries, 0 to 22721\n",
            "Data columns (total 2 columns):\n",
            " #   Column          Non-Null Count  Dtype \n",
            "---  ------          --------------  ----- \n",
            " 0   label           22722 non-null  int64 \n",
            " 1   processed_text  22722 non-null  object\n",
            "dtypes: int64(1), object(1)\n",
            "memory usage: 355.2+ KB\n"
          ]
        }
      ]
    },
    {
      "cell_type": "code",
      "source": [
        "# Corpus balanceado sin procesar\n",
        "print(data_balanced['text'].head(10))"
      ],
      "metadata": {
        "id": "fvuWxHzQR-3X",
        "colab": {
          "base_uri": "https://localhost:8080/"
        },
        "outputId": "203e30fe-6490-402b-cfe9-7832f412b07a"
      },
      "execution_count": 14,
      "outputs": [
        {
          "output_type": "stream",
          "name": "stdout",
          "text": [
            "0    ¡Arco Forum recibe este viernes la Medalla de ...\n",
            "1    las reacciones a la muerte de chacón de todo s...\n",
            "2    millones de chilenos no votan nunca otros tant...\n",
            "3    dime a mi y yo te hago reir com osea para que ...\n",
            "4    se compraron esas aireadoras culiás de papas f...\n",
            "5    si yo entrego un goya y el que lo gana no está...\n",
            "6    es cultural de nosotros los ecuatorianos ser m...\n",
            "7                                             malditos\n",
            "8    @oscar_mora_ Y educarlos tú, que son tus hijos...\n",
            "9    y se espera que nuevos flujos de inmigrantes d...\n",
            "Name: text, dtype: object\n"
          ]
        }
      ]
    },
    {
      "cell_type": "code",
      "source": [
        "# Corpus balanceado procesado\n",
        "print(df_processed['processed_text'].head(10))"
      ],
      "metadata": {
        "id": "JDKcvyxhs9XM",
        "colab": {
          "base_uri": "https://localhost:8080/"
        },
        "outputId": "83f5dcec-e18e-47be-f25c-843187e1daea"
      },
      "execution_count": 15,
      "outputs": [
        {
          "output_type": "stream",
          "name": "stdout",
          "text": [
            "0    arco forum recibe este viernes la medalla de o...\n",
            "1    las reacciones a la muerte de chacon de todo s...\n",
            "2    millones de chilenos no votan nunca otros tant...\n",
            "3    dime a mi y yo te hago reir com osea para que ...\n",
            "4    se compraron esas aireadoras culias de papas f...\n",
            "5    si yo entrego un goya y el que lo gana no esta...\n",
            "6    es cultural de nosotros los ecuatorianos ser m...\n",
            "7                                             malditos\n",
            "8         y educarlos tu que son tus hijos te imaginas\n",
            "9    y se espera que nuevos flujos de inmigrantes d...\n",
            "Name: processed_text, dtype: object\n"
          ]
        }
      ]
    },
    {
      "cell_type": "code",
      "source": [
        "df_emoji.head(5)"
      ],
      "metadata": {
        "colab": {
          "base_uri": "https://localhost:8080/",
          "height": 204
        },
        "id": "V7qM0oMX1Zzr",
        "outputId": "18bf7157-81e4-4f22-a45e-9c3532234fd3"
      },
      "execution_count": 16,
      "outputs": [
        {
          "output_type": "execute_result",
          "data": {
            "text/plain": [
              "  emoji  % del total\n",
              "0     🏻         5.99\n",
              "1     😂         5.34\n",
              "2     👉         2.77\n",
              "3   😂😂😂         2.54\n",
              "4     👇         1.95"
            ],
            "text/html": [
              "\n",
              "  <div id=\"df-06293d14-d941-44db-a63d-05b60d7161a0\" class=\"colab-df-container\">\n",
              "    <div>\n",
              "<style scoped>\n",
              "    .dataframe tbody tr th:only-of-type {\n",
              "        vertical-align: middle;\n",
              "    }\n",
              "\n",
              "    .dataframe tbody tr th {\n",
              "        vertical-align: top;\n",
              "    }\n",
              "\n",
              "    .dataframe thead th {\n",
              "        text-align: right;\n",
              "    }\n",
              "</style>\n",
              "<table border=\"1\" class=\"dataframe\">\n",
              "  <thead>\n",
              "    <tr style=\"text-align: right;\">\n",
              "      <th></th>\n",
              "      <th>emoji</th>\n",
              "      <th>% del total</th>\n",
              "    </tr>\n",
              "  </thead>\n",
              "  <tbody>\n",
              "    <tr>\n",
              "      <th>0</th>\n",
              "      <td>🏻</td>\n",
              "      <td>5.99</td>\n",
              "    </tr>\n",
              "    <tr>\n",
              "      <th>1</th>\n",
              "      <td>😂</td>\n",
              "      <td>5.34</td>\n",
              "    </tr>\n",
              "    <tr>\n",
              "      <th>2</th>\n",
              "      <td>👉</td>\n",
              "      <td>2.77</td>\n",
              "    </tr>\n",
              "    <tr>\n",
              "      <th>3</th>\n",
              "      <td>😂😂😂</td>\n",
              "      <td>2.54</td>\n",
              "    </tr>\n",
              "    <tr>\n",
              "      <th>4</th>\n",
              "      <td>👇</td>\n",
              "      <td>1.95</td>\n",
              "    </tr>\n",
              "  </tbody>\n",
              "</table>\n",
              "</div>\n",
              "    <div class=\"colab-df-buttons\">\n",
              "\n",
              "  <div class=\"colab-df-container\">\n",
              "    <button class=\"colab-df-convert\" onclick=\"convertToInteractive('df-06293d14-d941-44db-a63d-05b60d7161a0')\"\n",
              "            title=\"Convert this dataframe to an interactive table.\"\n",
              "            style=\"display:none;\">\n",
              "\n",
              "  <svg xmlns=\"http://www.w3.org/2000/svg\" height=\"24px\" viewBox=\"0 -960 960 960\">\n",
              "    <path d=\"M120-120v-720h720v720H120Zm60-500h600v-160H180v160Zm220 220h160v-160H400v160Zm0 220h160v-160H400v160ZM180-400h160v-160H180v160Zm440 0h160v-160H620v160ZM180-180h160v-160H180v160Zm440 0h160v-160H620v160Z\"/>\n",
              "  </svg>\n",
              "    </button>\n",
              "\n",
              "  <style>\n",
              "    .colab-df-container {\n",
              "      display:flex;\n",
              "      gap: 12px;\n",
              "    }\n",
              "\n",
              "    .colab-df-convert {\n",
              "      background-color: #E8F0FE;\n",
              "      border: none;\n",
              "      border-radius: 50%;\n",
              "      cursor: pointer;\n",
              "      display: none;\n",
              "      fill: #1967D2;\n",
              "      height: 32px;\n",
              "      padding: 0 0 0 0;\n",
              "      width: 32px;\n",
              "    }\n",
              "\n",
              "    .colab-df-convert:hover {\n",
              "      background-color: #E2EBFA;\n",
              "      box-shadow: 0px 1px 2px rgba(60, 64, 67, 0.3), 0px 1px 3px 1px rgba(60, 64, 67, 0.15);\n",
              "      fill: #174EA6;\n",
              "    }\n",
              "\n",
              "    .colab-df-buttons div {\n",
              "      margin-bottom: 4px;\n",
              "    }\n",
              "\n",
              "    [theme=dark] .colab-df-convert {\n",
              "      background-color: #3B4455;\n",
              "      fill: #D2E3FC;\n",
              "    }\n",
              "\n",
              "    [theme=dark] .colab-df-convert:hover {\n",
              "      background-color: #434B5C;\n",
              "      box-shadow: 0px 1px 3px 1px rgba(0, 0, 0, 0.15);\n",
              "      filter: drop-shadow(0px 1px 2px rgba(0, 0, 0, 0.3));\n",
              "      fill: #FFFFFF;\n",
              "    }\n",
              "  </style>\n",
              "\n",
              "    <script>\n",
              "      const buttonEl =\n",
              "        document.querySelector('#df-06293d14-d941-44db-a63d-05b60d7161a0 button.colab-df-convert');\n",
              "      buttonEl.style.display =\n",
              "        google.colab.kernel.accessAllowed ? 'block' : 'none';\n",
              "\n",
              "      async function convertToInteractive(key) {\n",
              "        const element = document.querySelector('#df-06293d14-d941-44db-a63d-05b60d7161a0');\n",
              "        const dataTable =\n",
              "          await google.colab.kernel.invokeFunction('convertToInteractive',\n",
              "                                                    [key], {});\n",
              "        if (!dataTable) return;\n",
              "\n",
              "        const docLinkHtml = 'Like what you see? Visit the ' +\n",
              "          '<a target=\"_blank\" href=https://colab.research.google.com/notebooks/data_table.ipynb>data table notebook</a>'\n",
              "          + ' to learn more about interactive tables.';\n",
              "        element.innerHTML = '';\n",
              "        dataTable['output_type'] = 'display_data';\n",
              "        await google.colab.output.renderOutput(dataTable, element);\n",
              "        const docLink = document.createElement('div');\n",
              "        docLink.innerHTML = docLinkHtml;\n",
              "        element.appendChild(docLink);\n",
              "      }\n",
              "    </script>\n",
              "  </div>\n",
              "\n",
              "\n",
              "<div id=\"df-e489b132-808e-49e0-b399-8ccdada9bed3\">\n",
              "  <button class=\"colab-df-quickchart\" onclick=\"quickchart('df-e489b132-808e-49e0-b399-8ccdada9bed3')\"\n",
              "            title=\"Suggest charts\"\n",
              "            style=\"display:none;\">\n",
              "\n",
              "<svg xmlns=\"http://www.w3.org/2000/svg\" height=\"24px\"viewBox=\"0 0 24 24\"\n",
              "     width=\"24px\">\n",
              "    <g>\n",
              "        <path d=\"M19 3H5c-1.1 0-2 .9-2 2v14c0 1.1.9 2 2 2h14c1.1 0 2-.9 2-2V5c0-1.1-.9-2-2-2zM9 17H7v-7h2v7zm4 0h-2V7h2v10zm4 0h-2v-4h2v4z\"/>\n",
              "    </g>\n",
              "</svg>\n",
              "  </button>\n",
              "\n",
              "<style>\n",
              "  .colab-df-quickchart {\n",
              "      --bg-color: #E8F0FE;\n",
              "      --fill-color: #1967D2;\n",
              "      --hover-bg-color: #E2EBFA;\n",
              "      --hover-fill-color: #174EA6;\n",
              "      --disabled-fill-color: #AAA;\n",
              "      --disabled-bg-color: #DDD;\n",
              "  }\n",
              "\n",
              "  [theme=dark] .colab-df-quickchart {\n",
              "      --bg-color: #3B4455;\n",
              "      --fill-color: #D2E3FC;\n",
              "      --hover-bg-color: #434B5C;\n",
              "      --hover-fill-color: #FFFFFF;\n",
              "      --disabled-bg-color: #3B4455;\n",
              "      --disabled-fill-color: #666;\n",
              "  }\n",
              "\n",
              "  .colab-df-quickchart {\n",
              "    background-color: var(--bg-color);\n",
              "    border: none;\n",
              "    border-radius: 50%;\n",
              "    cursor: pointer;\n",
              "    display: none;\n",
              "    fill: var(--fill-color);\n",
              "    height: 32px;\n",
              "    padding: 0;\n",
              "    width: 32px;\n",
              "  }\n",
              "\n",
              "  .colab-df-quickchart:hover {\n",
              "    background-color: var(--hover-bg-color);\n",
              "    box-shadow: 0 1px 2px rgba(60, 64, 67, 0.3), 0 1px 3px 1px rgba(60, 64, 67, 0.15);\n",
              "    fill: var(--button-hover-fill-color);\n",
              "  }\n",
              "\n",
              "  .colab-df-quickchart-complete:disabled,\n",
              "  .colab-df-quickchart-complete:disabled:hover {\n",
              "    background-color: var(--disabled-bg-color);\n",
              "    fill: var(--disabled-fill-color);\n",
              "    box-shadow: none;\n",
              "  }\n",
              "\n",
              "  .colab-df-spinner {\n",
              "    border: 2px solid var(--fill-color);\n",
              "    border-color: transparent;\n",
              "    border-bottom-color: var(--fill-color);\n",
              "    animation:\n",
              "      spin 1s steps(1) infinite;\n",
              "  }\n",
              "\n",
              "  @keyframes spin {\n",
              "    0% {\n",
              "      border-color: transparent;\n",
              "      border-bottom-color: var(--fill-color);\n",
              "      border-left-color: var(--fill-color);\n",
              "    }\n",
              "    20% {\n",
              "      border-color: transparent;\n",
              "      border-left-color: var(--fill-color);\n",
              "      border-top-color: var(--fill-color);\n",
              "    }\n",
              "    30% {\n",
              "      border-color: transparent;\n",
              "      border-left-color: var(--fill-color);\n",
              "      border-top-color: var(--fill-color);\n",
              "      border-right-color: var(--fill-color);\n",
              "    }\n",
              "    40% {\n",
              "      border-color: transparent;\n",
              "      border-right-color: var(--fill-color);\n",
              "      border-top-color: var(--fill-color);\n",
              "    }\n",
              "    60% {\n",
              "      border-color: transparent;\n",
              "      border-right-color: var(--fill-color);\n",
              "    }\n",
              "    80% {\n",
              "      border-color: transparent;\n",
              "      border-right-color: var(--fill-color);\n",
              "      border-bottom-color: var(--fill-color);\n",
              "    }\n",
              "    90% {\n",
              "      border-color: transparent;\n",
              "      border-bottom-color: var(--fill-color);\n",
              "    }\n",
              "  }\n",
              "</style>\n",
              "\n",
              "  <script>\n",
              "    async function quickchart(key) {\n",
              "      const quickchartButtonEl =\n",
              "        document.querySelector('#' + key + ' button');\n",
              "      quickchartButtonEl.disabled = true;  // To prevent multiple clicks.\n",
              "      quickchartButtonEl.classList.add('colab-df-spinner');\n",
              "      try {\n",
              "        const charts = await google.colab.kernel.invokeFunction(\n",
              "            'suggestCharts', [key], {});\n",
              "      } catch (error) {\n",
              "        console.error('Error during call to suggestCharts:', error);\n",
              "      }\n",
              "      quickchartButtonEl.classList.remove('colab-df-spinner');\n",
              "      quickchartButtonEl.classList.add('colab-df-quickchart-complete');\n",
              "    }\n",
              "    (() => {\n",
              "      let quickchartButtonEl =\n",
              "        document.querySelector('#df-e489b132-808e-49e0-b399-8ccdada9bed3 button');\n",
              "      quickchartButtonEl.style.display =\n",
              "        google.colab.kernel.accessAllowed ? 'block' : 'none';\n",
              "    })();\n",
              "  </script>\n",
              "</div>\n",
              "    </div>\n",
              "  </div>\n"
            ],
            "application/vnd.google.colaboratory.intrinsic+json": {
              "type": "dataframe",
              "variable_name": "df_emoji",
              "summary": "{\n  \"name\": \"df_emoji\",\n  \"rows\": 795,\n  \"fields\": [\n    {\n      \"column\": \"emoji\",\n      \"properties\": {\n        \"dtype\": \"string\",\n        \"num_unique_values\": 795,\n        \"samples\": [\n          \"\\ud83c\\udfa8\",\n          \"\\ud83c\\udfff\",\n          \"\\ud83d\\ude43\"\n        ],\n        \"semantic_type\": \"\",\n        \"description\": \"\"\n      }\n    },\n    {\n      \"column\": \"% del total\",\n      \"properties\": {\n        \"dtype\": \"number\",\n        \"std\": 0.3669213464706375,\n        \"min\": 0.03,\n        \"max\": 5.99,\n        \"num_unique_values\": 38,\n        \"samples\": [\n          0.16,\n          0.07,\n          1.95\n        ],\n        \"semantic_type\": \"\",\n        \"description\": \"\"\n      }\n    }\n  ]\n}"
            }
          },
          "metadata": {},
          "execution_count": 16
        }
      ]
    }
  ]
}